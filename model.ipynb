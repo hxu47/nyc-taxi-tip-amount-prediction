{
 "cells": [
  {
   "cell_type": "markdown",
   "id": "loved-fifteen",
   "metadata": {},
   "source": [
    "## Huidong Xu\n",
    "ML goals: predicting tip amount using pyspark RandomForestRegressor"
   ]
  },
  {
   "cell_type": "code",
   "execution_count": 21,
   "id": "burning-treatment",
   "metadata": {},
   "outputs": [
    {
     "name": "stdout",
     "output_type": "stream",
     "text": [
      "Starting Spark application\n"
     ]
    },
    {
     "data": {
      "text/html": [
       "<table>\n",
       "<tr><th>ID</th><th>YARN Application ID</th><th>Kind</th><th>State</th><th>Spark UI</th><th>Driver log</th><th>Current session?</th></tr><tr><td>1</td><td>application_1615600877234_0002</td><td>pyspark</td><td>idle</td><td></td><td></td><td>✔</td></tr></table>"
      ],
      "text/plain": [
       "<IPython.core.display.HTML object>"
      ]
     },
     "metadata": {},
     "output_type": "display_data"
    },
    {
     "data": {
      "application/vnd.jupyter.widget-view+json": {
       "model_id": "",
       "version_major": 2,
       "version_minor": 0
      },
      "text/plain": [
       "FloatProgress(value=0.0, bar_style='info', description='Progress:', layout=Layout(height='25px', width='50%'),…"
      ]
     },
     "metadata": {},
     "output_type": "display_data"
    },
    {
     "name": "stdout",
     "output_type": "stream",
     "text": [
      "SparkSession available as 'spark'.\n"
     ]
    },
    {
     "data": {
      "text/html": [
       "Current session configs: <tt>{'conf': {'spark.pyspark.python': 'python3', 'spark.pyspark.virtualenv.enabled': 'true', 'spark.pyspark.virtualenv.type': 'native', 'spark.pyspark.virtualenv.bin.path': '/usr/bin/virtualenv', 'spark.executor.heartbeatInterval': '10800s', 'spark.network.timeout': '24h', 'spark.driver.memory': '18G', 'spark.executor.memory': '18G', 'spark.executor.cores': '8', 'livy.server.session.timeout': '24h', 'spark.dynamicAllocation.enabled': 'false', 'spark.ext.h2o.fail.on.unsupported.spark.param': 'false', 'spark.app.name': 'msds694_train'}, 'kind': 'pyspark'}</tt><br>"
      ],
      "text/plain": [
       "<IPython.core.display.HTML object>"
      ]
     },
     "metadata": {},
     "output_type": "display_data"
    },
    {
     "data": {
      "text/html": [
       "<table>\n",
       "<tr><th>ID</th><th>YARN Application ID</th><th>Kind</th><th>State</th><th>Spark UI</th><th>Driver log</th><th>Current session?</th></tr><tr><td>1</td><td>application_1615600877234_0002</td><td>pyspark</td><td>idle</td><td><a target=\"_blank\" href=\"http://ip-172-31-9-147.us-west-1.compute.internal:20888/proxy/application_1615600877234_0002/\">Link</a></td><td><a target=\"_blank\" href=\"http://ip-172-31-6-114.us-west-1.compute.internal:8042/node/containerlogs/container_1615600877234_0002_01_000001/livy\">Link</a></td><td>✔</td></tr></table>"
      ],
      "text/plain": [
       "<IPython.core.display.HTML object>"
      ]
     },
     "metadata": {},
     "output_type": "display_data"
    }
   ],
   "source": [
    "%%configure -f \n",
    "{\n",
    "\"conf\":{\n",
    "        \"spark.pyspark.python\": \"python3\",\n",
    "        \"spark.pyspark.virtualenv.enabled\": \"true\",\n",
    "        \"spark.pyspark.virtualenv.type\":\"native\",\n",
    "        \"spark.pyspark.virtualenv.bin.path\":\"/usr/bin/virtualenv\",\n",
    "    \n",
    "        \"spark.executor.heartbeatInterval\":\"10800s\",\n",
    "        \"spark.network.timeout\":\"24h\",\n",
    "    \n",
    "        \"spark.driver.memory\": \"18G\",\n",
    "        \"spark.executor.memory\": \"18G\",\n",
    "        \"spark.executor.cores\":\"8\",\n",
    "    \n",
    "        \"livy.server.session.timeout\":\"24h\",\n",
    "    \n",
    "        \"spark.dynamicAllocation.enabled\":\"false\",\n",
    "        \"spark.ext.h2o.fail.on.unsupported.spark.param\":\"false\",    \n",
    "        \n",
    "        \"spark.app.name\":\"msds694_train\"\n",
    "      }\n",
    "}"
   ]
  },
  {
   "cell_type": "code",
   "execution_count": 22,
   "id": "robust-valuation",
   "metadata": {},
   "outputs": [
    {
     "data": {
      "application/vnd.jupyter.widget-view+json": {
       "model_id": "2d521ed72f5b454aa170d1fb6b40d133",
       "version_major": 2,
       "version_minor": 0
      },
      "text/plain": [
       "VBox()"
      ]
     },
     "metadata": {},
     "output_type": "display_data"
    },
    {
     "data": {
      "application/vnd.jupyter.widget-view+json": {
       "model_id": "",
       "version_major": 2,
       "version_minor": 0
      },
      "text/plain": [
       "FloatProgress(value=0.0, bar_style='info', description='Progress:', layout=Layout(height='25px', width='50%'),…"
      ]
     },
     "metadata": {},
     "output_type": "display_data"
    },
    {
     "name": "stdout",
     "output_type": "stream",
     "text": [
      "<SparkContext master=yarn appName=msds694_train>"
     ]
    }
   ],
   "source": [
    "sc"
   ]
  },
  {
   "cell_type": "code",
   "execution_count": 23,
   "id": "connected-youth",
   "metadata": {},
   "outputs": [
    {
     "data": {
      "application/vnd.jupyter.widget-view+json": {
       "model_id": "117f7ba61aae4d1e95c4576067dc9b77",
       "version_major": 2,
       "version_minor": 0
      },
      "text/plain": [
       "VBox()"
      ]
     },
     "metadata": {},
     "output_type": "display_data"
    },
    {
     "data": {
      "application/vnd.jupyter.widget-view+json": {
       "model_id": "",
       "version_major": 2,
       "version_minor": 0
      },
      "text/plain": [
       "FloatProgress(value=0.0, bar_style='info', description='Progress:', layout=Layout(height='25px', width='50%'),…"
      ]
     },
     "metadata": {},
     "output_type": "display_data"
    }
   ],
   "source": [
    "from pyspark.sql import *\n",
    "from pyspark.ml import *\n",
    "\n",
    "from pyspark.sql.types import *\n",
    "from pyspark.sql import SparkSession\n",
    "from pyspark.sql import Window\n",
    "from pyspark.sql.types import *\n",
    "from pyspark.sql.functions import *\n",
    "from pyspark.ml.feature import VectorAssembler"
   ]
  },
  {
   "cell_type": "code",
   "execution_count": 24,
   "id": "published-jamaica",
   "metadata": {},
   "outputs": [
    {
     "data": {
      "application/vnd.jupyter.widget-view+json": {
       "model_id": "a7b1f1c6963049e9b4b9a1d9315b499f",
       "version_major": 2,
       "version_minor": 0
      },
      "text/plain": [
       "VBox()"
      ]
     },
     "metadata": {},
     "output_type": "display_data"
    },
    {
     "data": {
      "application/vnd.jupyter.widget-view+json": {
       "model_id": "",
       "version_major": 2,
       "version_minor": 0
      },
      "text/plain": [
       "FloatProgress(value=0.0, bar_style='info', description='Progress:', layout=Layout(height='25px', width='50%'),…"
      ]
     },
     "metadata": {},
     "output_type": "display_data"
    }
   ],
   "source": [
    "from pyspark.sql import SparkSession"
   ]
  },
  {
   "cell_type": "code",
   "execution_count": 25,
   "id": "embedded-license",
   "metadata": {},
   "outputs": [
    {
     "data": {
      "application/vnd.jupyter.widget-view+json": {
       "model_id": "2a0574ac0a70449fb39db7a749213c6b",
       "version_major": 2,
       "version_minor": 0
      },
      "text/plain": [
       "VBox()"
      ]
     },
     "metadata": {},
     "output_type": "display_data"
    },
    {
     "data": {
      "application/vnd.jupyter.widget-view+json": {
       "model_id": "",
       "version_major": 2,
       "version_minor": 0
      },
      "text/plain": [
       "FloatProgress(value=0.0, bar_style='info', description='Progress:', layout=Layout(height='25px', width='50%'),…"
      ]
     },
     "metadata": {},
     "output_type": "display_data"
    }
   ],
   "source": [
    "ss = SparkSession.builder.getOrCreate()"
   ]
  },
  {
   "cell_type": "code",
   "execution_count": 26,
   "id": "superior-discount",
   "metadata": {},
   "outputs": [
    {
     "data": {
      "application/vnd.jupyter.widget-view+json": {
       "model_id": "febc791ae5d84a0eaed32a27fdd9b443",
       "version_major": 2,
       "version_minor": 0
      },
      "text/plain": [
       "VBox()"
      ]
     },
     "metadata": {},
     "output_type": "display_data"
    },
    {
     "data": {
      "application/vnd.jupyter.widget-view+json": {
       "model_id": "",
       "version_major": 2,
       "version_minor": 0
      },
      "text/plain": [
       "FloatProgress(value=0.0, bar_style='info', description='Progress:', layout=Layout(height='25px', width='50%'),…"
      ]
     },
     "metadata": {},
     "output_type": "display_data"
    }
   ],
   "source": [
    "data_path = \"s3a://msds694project/data/dt_2/\"\n",
    "\n",
    "df = ss.read.parquet(data_path)"
   ]
  },
  {
   "cell_type": "code",
   "execution_count": 27,
   "id": "agricultural-dance",
   "metadata": {},
   "outputs": [
    {
     "data": {
      "application/vnd.jupyter.widget-view+json": {
       "model_id": "96ccdec788f847cfa021a60caa663f4d",
       "version_major": 2,
       "version_minor": 0
      },
      "text/plain": [
       "VBox()"
      ]
     },
     "metadata": {},
     "output_type": "display_data"
    },
    {
     "data": {
      "application/vnd.jupyter.widget-view+json": {
       "model_id": "",
       "version_major": 2,
       "version_minor": 0
      },
      "text/plain": [
       "FloatProgress(value=0.0, bar_style='info', description='Progress:', layout=Layout(height='25px', width='50%'),…"
      ]
     },
     "metadata": {},
     "output_type": "display_data"
    },
    {
     "name": "stdout",
     "output_type": "stream",
     "text": [
      "+---------------+-------------+-----------+-----+-------+----------+------------+---------------------+------------+--------------------+-------------+---------------+------------------+-----------------+-----------------+-------------+\n",
      "|passenger_count|trip_distance|fare_amount|extra|mta_tax|tip_amount|tolls_amount|improvement_surcharge|total_amount|congestion_surcharge|     vendorid|     ratecodeid|store_and_fwd_flag|     pulocationid|     dolocationid| payment_type|\n",
      "+---------------+-------------+-----------+-----+-------+----------+------------+---------------------+------------+--------------------+-------------+---------------+------------------+-----------------+-----------------+-------------+\n",
      "|              0|          0.0|      -35.0|  0.0|   -0.5|      -1.0|         0.0|                 -0.3|       -36.8|                 0.0|(5,[2],[1.0])|(100,[5],[1.0])|     (2,[0],[1.0])|(266,[243],[1.0])|(266,[264],[1.0])|(6,[3],[1.0])|\n",
      "+---------------+-------------+-----------+-----+-------+----------+------------+---------------------+------------+--------------------+-------------+---------------+------------------+-----------------+-----------------+-------------+\n",
      "only showing top 1 row"
     ]
    }
   ],
   "source": [
    "df.show(1)"
   ]
  },
  {
   "cell_type": "code",
   "execution_count": 28,
   "id": "boring-spouse",
   "metadata": {},
   "outputs": [
    {
     "data": {
      "application/vnd.jupyter.widget-view+json": {
       "model_id": "31bdbf020d6c4a5cb5743a8c56fde498",
       "version_major": 2,
       "version_minor": 0
      },
      "text/plain": [
       "VBox()"
      ]
     },
     "metadata": {},
     "output_type": "display_data"
    },
    {
     "data": {
      "application/vnd.jupyter.widget-view+json": {
       "model_id": "",
       "version_major": 2,
       "version_minor": 0
      },
      "text/plain": [
       "FloatProgress(value=0.0, bar_style='info', description='Progress:', layout=Layout(height='25px', width='50%'),…"
      ]
     },
     "metadata": {},
     "output_type": "display_data"
    },
    {
     "name": "stdout",
     "output_type": "stream",
     "text": [
      "2.224630301004901"
     ]
    }
   ],
   "source": [
    "avg_value = df.agg({'tip_amount': \"avg\"}).collect()[0][0]\n",
    "avg_value"
   ]
  },
  {
   "cell_type": "code",
   "execution_count": 29,
   "id": "sufficient-beauty",
   "metadata": {},
   "outputs": [
    {
     "data": {
      "application/vnd.jupyter.widget-view+json": {
       "model_id": "a8745e5a3da94e24964be403765116f2",
       "version_major": 2,
       "version_minor": 0
      },
      "text/plain": [
       "VBox()"
      ]
     },
     "metadata": {},
     "output_type": "display_data"
    },
    {
     "data": {
      "application/vnd.jupyter.widget-view+json": {
       "model_id": "",
       "version_major": 2,
       "version_minor": 0
      },
      "text/plain": [
       "FloatProgress(value=0.0, bar_style='info', description='Progress:', layout=Layout(height='25px', width='50%'),…"
      ]
     },
     "metadata": {},
     "output_type": "display_data"
    },
    {
     "name": "stdout",
     "output_type": "stream",
     "text": [
      "440.2200012207031"
     ]
    }
   ],
   "source": [
    "max_value = df.agg({'tip_amount': \"max\"}).collect()[0][0]\n",
    "max_value"
   ]
  },
  {
   "cell_type": "code",
   "execution_count": 30,
   "id": "dedicated-reduction",
   "metadata": {},
   "outputs": [
    {
     "data": {
      "application/vnd.jupyter.widget-view+json": {
       "model_id": "b392dae497ec4fbf93bd7ce8575a5917",
       "version_major": 2,
       "version_minor": 0
      },
      "text/plain": [
       "VBox()"
      ]
     },
     "metadata": {},
     "output_type": "display_data"
    },
    {
     "data": {
      "application/vnd.jupyter.widget-view+json": {
       "model_id": "",
       "version_major": 2,
       "version_minor": 0
      },
      "text/plain": [
       "FloatProgress(value=0.0, bar_style='info', description='Progress:', layout=Layout(height='25px', width='50%'),…"
      ]
     },
     "metadata": {},
     "output_type": "display_data"
    },
    {
     "name": "stdout",
     "output_type": "stream",
     "text": [
      "-170.0"
     ]
    }
   ],
   "source": [
    "min_value = df.agg({'tip_amount': \"min\"}).collect()[0][0]\n",
    "min_value"
   ]
  },
  {
   "cell_type": "code",
   "execution_count": 31,
   "id": "minus-intellectual",
   "metadata": {},
   "outputs": [
    {
     "data": {
      "application/vnd.jupyter.widget-view+json": {
       "model_id": "080faf17444040b596c366583b70b372",
       "version_major": 2,
       "version_minor": 0
      },
      "text/plain": [
       "VBox()"
      ]
     },
     "metadata": {},
     "output_type": "display_data"
    },
    {
     "data": {
      "application/vnd.jupyter.widget-view+json": {
       "model_id": "",
       "version_major": 2,
       "version_minor": 0
      },
      "text/plain": [
       "FloatProgress(value=0.0, bar_style='info', description='Progress:', layout=Layout(height='25px', width='50%'),…"
      ]
     },
     "metadata": {},
     "output_type": "display_data"
    }
   ],
   "source": [
    "df = df.filter(\"tip_amount>=0\")"
   ]
  },
  {
   "cell_type": "markdown",
   "id": "greek-pound",
   "metadata": {},
   "source": [
    "# Goal: predict tip_amount using"
   ]
  },
  {
   "cell_type": "markdown",
   "id": "violent-alliance",
   "metadata": {},
   "source": [
    "## Create dataframe with a feature vector and label"
   ]
  },
  {
   "cell_type": "code",
   "execution_count": 32,
   "id": "light-debut",
   "metadata": {},
   "outputs": [
    {
     "data": {
      "application/vnd.jupyter.widget-view+json": {
       "model_id": "13babc6a51b247cf81e9422d30831860",
       "version_major": 2,
       "version_minor": 0
      },
      "text/plain": [
       "VBox()"
      ]
     },
     "metadata": {},
     "output_type": "display_data"
    },
    {
     "data": {
      "application/vnd.jupyter.widget-view+json": {
       "model_id": "",
       "version_major": 2,
       "version_minor": 0
      },
      "text/plain": [
       "FloatProgress(value=0.0, bar_style='info', description='Progress:', layout=Layout(height='25px', width='50%'),…"
      ]
     },
     "metadata": {},
     "output_type": "display_data"
    }
   ],
   "source": [
    "predictors = df.columns\n",
    "response = \"tip_amount\"\n",
    "predictors.remove('tip_amount')\n",
    "predictors.remove('total_amount')"
   ]
  },
  {
   "cell_type": "code",
   "execution_count": 33,
   "id": "musical-aruba",
   "metadata": {},
   "outputs": [
    {
     "data": {
      "application/vnd.jupyter.widget-view+json": {
       "model_id": "98447e5eef0349238fb7bc69916f086c",
       "version_major": 2,
       "version_minor": 0
      },
      "text/plain": [
       "VBox()"
      ]
     },
     "metadata": {},
     "output_type": "display_data"
    },
    {
     "data": {
      "application/vnd.jupyter.widget-view+json": {
       "model_id": "",
       "version_major": 2,
       "version_minor": 0
      },
      "text/plain": [
       "FloatProgress(value=0.0, bar_style='info', description='Progress:', layout=Layout(height='25px', width='50%'),…"
      ]
     },
     "metadata": {},
     "output_type": "display_data"
    }
   ],
   "source": [
    "# Merging the data with Vector Assembler.\n",
    "from pyspark.ml.feature import VectorAssembler\n",
    "va = VectorAssembler(outputCol=\"features\", inputCols=predictors) \n",
    "df_va = va.transform(df).select(\"features\", \"tip_amount\")\\\n",
    "               .withColumnRenamed(\"tip_amount\", \"label\")"
   ]
  },
  {
   "cell_type": "code",
   "execution_count": 34,
   "id": "intensive-finland",
   "metadata": {},
   "outputs": [
    {
     "data": {
      "application/vnd.jupyter.widget-view+json": {
       "model_id": "3943247d69ec4da0945601f3e5cc3701",
       "version_major": 2,
       "version_minor": 0
      },
      "text/plain": [
       "VBox()"
      ]
     },
     "metadata": {},
     "output_type": "display_data"
    },
    {
     "data": {
      "application/vnd.jupyter.widget-view+json": {
       "model_id": "",
       "version_major": 2,
       "version_minor": 0
      },
      "text/plain": [
       "FloatProgress(value=0.0, bar_style='info', description='Progress:', layout=Layout(height='25px', width='50%'),…"
      ]
     },
     "metadata": {},
     "output_type": "display_data"
    },
    {
     "name": "stdout",
     "output_type": "stream",
     "text": [
      "+--------------------+-----+\n",
      "|            features|label|\n",
      "+--------------------+-----+\n",
      "|(653,[9,14,113,15...|  0.0|\n",
      "|(653,[9,14,113,37...|  0.0|\n",
      "|(653,[2,6,9,18,11...|  0.0|\n",
      "|(653,[2,6,9,18,11...|  0.0|\n",
      "|(653,[2,6,9,14,11...|  0.0|\n",
      "+--------------------+-----+\n",
      "only showing top 5 rows"
     ]
    }
   ],
   "source": [
    "df_va.show(5)"
   ]
  },
  {
   "cell_type": "markdown",
   "id": "developed-shore",
   "metadata": {},
   "source": [
    "## Split dataframe into training and test sets"
   ]
  },
  {
   "cell_type": "code",
   "execution_count": 35,
   "id": "formed-albany",
   "metadata": {},
   "outputs": [
    {
     "data": {
      "application/vnd.jupyter.widget-view+json": {
       "model_id": "2e8740c8a577433c87c98daeceb936a2",
       "version_major": 2,
       "version_minor": 0
      },
      "text/plain": [
       "VBox()"
      ]
     },
     "metadata": {},
     "output_type": "display_data"
    },
    {
     "data": {
      "application/vnd.jupyter.widget-view+json": {
       "model_id": "",
       "version_major": 2,
       "version_minor": 0
      },
      "text/plain": [
       "FloatProgress(value=0.0, bar_style='info', description='Progress:', layout=Layout(height='25px', width='50%'),…"
      ]
     },
     "metadata": {},
     "output_type": "display_data"
    }
   ],
   "source": [
    "# Create Training and Test data.\n",
    "dtsets = df_va.randomSplit([0.8, 0.2], 1)\n",
    "train = dtsets[0].cache()\n",
    "valid = dtsets[1].cache()"
   ]
  },
  {
   "cell_type": "code",
   "execution_count": 36,
   "id": "willing-switch",
   "metadata": {},
   "outputs": [
    {
     "data": {
      "application/vnd.jupyter.widget-view+json": {
       "model_id": "197c230adcd242459e7ef74b4f62f96c",
       "version_major": 2,
       "version_minor": 0
      },
      "text/plain": [
       "VBox()"
      ]
     },
     "metadata": {},
     "output_type": "display_data"
    },
    {
     "data": {
      "application/vnd.jupyter.widget-view+json": {
       "model_id": "",
       "version_major": 2,
       "version_minor": 0
      },
      "text/plain": [
       "FloatProgress(value=0.0, bar_style='info', description='Progress:', layout=Layout(height='25px', width='50%'),…"
      ]
     },
     "metadata": {},
     "output_type": "display_data"
    }
   ],
   "source": [
    "for (id, rdd) in sc._jsc.getPersistentRDDs().items():\n",
    "    rdd.unpersist()"
   ]
  },
  {
   "cell_type": "markdown",
   "id": "professional-beach",
   "metadata": {},
   "source": [
    "## Create a RandomForestRegressor and build a model using training Dataset"
   ]
  },
  {
   "cell_type": "code",
   "execution_count": 37,
   "id": "abstract-thickness",
   "metadata": {},
   "outputs": [
    {
     "data": {
      "application/vnd.jupyter.widget-view+json": {
       "model_id": "06b144255f7c474a80d662e06637faae",
       "version_major": 2,
       "version_minor": 0
      },
      "text/plain": [
       "VBox()"
      ]
     },
     "metadata": {},
     "output_type": "display_data"
    },
    {
     "data": {
      "application/vnd.jupyter.widget-view+json": {
       "model_id": "",
       "version_major": 2,
       "version_minor": 0
      },
      "text/plain": [
       "FloatProgress(value=0.0, bar_style='info', description='Progress:', layout=Layout(height='25px', width='50%'),…"
      ]
     },
     "metadata": {},
     "output_type": "display_data"
    }
   ],
   "source": [
    "# Initialize model with columns to utilize\n",
    "from pyspark.ml.regression import RandomForestRegressor\n",
    "rf = RandomForestRegressor(featuresCol=\"features\",\n",
    "                           labelCol=\"label\")\n",
    "# Train model\n",
    "rfmodel = rf.fit(train)"
   ]
  },
  {
   "cell_type": "code",
   "execution_count": 44,
   "id": "rubber-lightweight",
   "metadata": {},
   "outputs": [
    {
     "data": {
      "application/vnd.jupyter.widget-view+json": {
       "model_id": "d8f790ed84e14e9799dcf8c70be5cb33",
       "version_major": 2,
       "version_minor": 0
      },
      "text/plain": [
       "VBox()"
      ]
     },
     "metadata": {},
     "output_type": "display_data"
    },
    {
     "data": {
      "application/vnd.jupyter.widget-view+json": {
       "model_id": "",
       "version_major": 2,
       "version_minor": 0
      },
      "text/plain": [
       "FloatProgress(value=0.0, bar_style='info', description='Progress:', layout=Layout(height='25px', width='50%'),…"
      ]
     },
     "metadata": {},
     "output_type": "display_data"
    },
    {
     "name": "stdout",
     "output_type": "stream",
     "text": [
      "RandomForestRegressionModel (uid=RandomForestRegressor_27cb3d536af9) with 20 trees\n",
      "  Tree 0 (weight 1.0):\n",
      "    If (feature 5 <= 2.7200000286102295)\n",
      "     If (feature 648 in {0.0})\n",
      "      If (feature 408 in {0.0})\n",
      "       If (feature 343 in {0.0})\n",
      "        If (feature 4 <= 0.25)\n",
      "         Predict: 0.012939578457651148\n",
      "        Else (feature 4 > 0.25)\n",
      "         Predict: 3.4445479772099636E-4\n",
      "       Else (feature 343 not in {0.0})\n",
      "        If (feature 651 in {0.0})\n",
      "         Predict: 0.0\n",
      "        Else (feature 651 not in {0.0})\n",
      "         Predict: 8.09999974568685\n",
      "      Else (feature 408 not in {0.0})\n",
      "       If (feature 1 <= 0.35500000417232513)\n",
      "        Predict: 16.059999465942383\n",
      "       Else (feature 1 > 0.35500000417232513)\n",
      "        Predict: 0.0\n",
      "     Else (feature 648 not in {0.0})\n",
      "      If (feature 2 <= 17.75)\n",
      "       If (feature 1 <= 1.7450000047683716)\n",
      "        If (feature 1 <= 1.0549999475479126)\n",
      "         Predict: 1.7286578142734415\n",
      "        Else (feature 1 > 1.0549999475479126)\n",
      "         Predict: 2.1660013923559243\n",
      "       Else (feature 1 > 1.7450000047683716)\n",
      "        If (feature 2 <= 12.75)\n",
      "         Predict: 2.5003209086062506\n",
      "        Else (feature 2 > 12.75)\n",
      "         Predict: 3.2565426472247427\n",
      "      Else (feature 2 > 17.75)\n",
      "       If (feature 1 <= 10.095000267028809)\n",
      "        If (feature 2 <= 51.75)\n",
      "         Predict: 4.4836186610497215\n",
      "        Else (feature 2 > 51.75)\n",
      "         Predict: 10.887459885988862\n",
      "       Else (feature 1 > 10.095000267028809)\n",
      "        If (feature 1 <= 16.0600004196167)\n",
      "         Predict: 6.927441357353734\n",
      "        Else (feature 1 > 16.0600004196167)\n",
      "         Predict: 10.124046260999885\n",
      "    Else (feature 5 > 2.7200000286102295)\n",
      "     If (feature 2 <= 51.75)\n",
      "      If (feature 7 <= 1.25)\n",
      "       If (feature 648 in {0.0})\n",
      "        If (feature 3 <= 0.25)\n",
      "         Predict: 0.0\n",
      "        Else (feature 3 > 0.25)\n",
      "         Predict: 0.0014129919483515819\n",
      "       Else (feature 648 not in {0.0})\n",
      "        If (feature 2 <= 3.75)\n",
      "         Predict: 36.0542029293551\n",
      "        Else (feature 2 > 3.75)\n",
      "         Predict: 4.967014778464202\n",
      "      Else (feature 7 > 1.25)\n",
      "       If (feature 648 in {0.0})\n",
      "        If (feature 10 in {1.0})\n",
      "         Predict: 0.0\n",
      "        Else (feature 10 not in {1.0})\n",
      "         Predict: 0.001100056131052701\n",
      "       Else (feature 648 not in {0.0})\n",
      "        If (feature 526 in {1.0})\n",
      "         Predict: 4.487568084302721\n",
      "        Else (feature 526 not in {1.0})\n",
      "         Predict: 7.980928904879589\n",
      "     Else (feature 2 > 51.75)\n",
      "      If (feature 648 in {0.0})\n",
      "       If (feature 354 in {0.0})\n",
      "        If (feature 7 <= 1.25)\n",
      "         Predict: 2.6776002407193674E-4\n",
      "        Else (feature 7 > 1.25)\n",
      "         Predict: 0.0\n",
      "       Else (feature 354 not in {0.0})\n",
      "        If (feature 0 <= 1.5)\n",
      "         Predict: 0.12639594199088625\n",
      "        Else (feature 0 > 1.5)\n",
      "         Predict: 0.0\n",
      "      Else (feature 648 not in {0.0})\n",
      "       If (feature 5 <= 10.25)\n",
      "        If (feature 7 <= 1.25)\n",
      "         Predict: 9.690203985051388\n",
      "        Else (feature 7 > 1.25)\n",
      "         Predict: 11.230361393015789\n",
      "       Else (feature 5 > 10.25)\n",
      "        If (feature 5 <= 15.75)\n",
      "         Predict: 13.984472132902367\n",
      "        Else (feature 5 > 15.75)\n",
      "         Predict: 16.60759493440165\n",
      "  Tree 1 (weight 1.0):\n",
      "    If (feature 649 in {1.0})\n",
      "     If (feature 6 <= 0.15000000596046448)\n",
      "      If (feature 434 in {0.0})\n",
      "       If (feature 523 in {0.0})\n",
      "        If (feature 281 in {0.0})\n",
      "         Predict: 0.015358958633505573\n",
      "        Else (feature 281 not in {0.0})\n",
      "         Predict: 0.384444448682997\n",
      "       Else (feature 523 not in {0.0})\n",
      "        If (feature 257 in {0.0})\n",
      "         Predict: 0.0\n",
      "        Else (feature 257 not in {0.0})\n",
      "         Predict: 0.9904348124628481\n",
      "      Else (feature 434 not in {0.0})\n",
      "       If (feature 1 <= 1.1050000190734863)\n",
      "        Predict: 2.059999942779541\n",
      "       Else (feature 1 > 1.1050000190734863)\n",
      "        Predict: 0.0\n",
      "     Else (feature 6 > 0.15000000596046448)\n",
      "      If (feature 3 <= -0.75)\n",
      "       If (feature 1 <= 0.35500000417232513)\n",
      "        Predict: 0.0\n",
      "       Else (feature 1 > 0.35500000417232513)\n",
      "        Predict: 1.0\n",
      "      Else (feature 3 > -0.75)\n",
      "       If (feature 9 in {0.0})\n",
      "        If (feature 571 in {0.0})\n",
      "         Predict: 1.1001088268665741E-4\n",
      "        Else (feature 571 not in {0.0})\n",
      "         Predict: 0.029915253994828563\n",
      "       Else (feature 9 not in {0.0})\n",
      "        If (feature 338 in {0.0})\n",
      "         Predict: 4.7056084057595527E-4\n",
      "        Else (feature 338 not in {0.0})\n",
      "         Predict: 0.01676870771005851\n",
      "    Else (feature 649 not in {1.0})\n",
      "     If (feature 2 <= 27.25)\n",
      "      If (feature 1 <= 2.7450000047683716)\n",
      "       If (feature 1 <= 1.3550000190734863)\n",
      "        If (feature 2 <= 7.25)\n",
      "         Predict: 1.6471142868999378\n",
      "        Else (feature 2 > 7.25)\n",
      "         Predict: 2.23962967174851\n",
      "       Else (feature 1 > 1.3550000190734863)\n",
      "        If (feature 7 <= 1.25)\n",
      "         Predict: 1.9102101544427474\n",
      "        Else (feature 7 > 1.25)\n",
      "         Predict: 2.5270576900633928\n",
      "      Else (feature 1 > 2.7450000047683716)\n",
      "       If (feature 650 in {1.0})\n",
      "        If (feature 6 <= -0.15000000596046448)\n",
      "         Predict: 0.02037383239960002\n",
      "        Else (feature 6 > -0.15000000596046448)\n",
      "         Predict: 0.0010036888981539765\n",
      "       Else (feature 650 not in {1.0})\n",
      "        If (feature 253 in {0.0})\n",
      "         Predict: 3.6931296551105106\n",
      "        Else (feature 253 not in {0.0})\n",
      "         Predict: 5.581429147147199\n",
      "     Else (feature 2 > 27.25)\n",
      "      If (feature 14 in {1.0})\n",
      "       If (feature 2 <= 34.75)\n",
      "        If (feature 5 <= 5.059999942779541)\n",
      "         Predict: 5.5286456695255035\n",
      "        Else (feature 5 > 5.059999942779541)\n",
      "         Predict: 7.586066284952085\n",
      "       Else (feature 2 > 34.75)\n",
      "        If (feature 253 in {0.0})\n",
      "         Predict: 7.428411079678218\n",
      "        Else (feature 253 not in {0.0})\n",
      "         Predict: 9.092747749725554\n",
      "      Else (feature 14 not in {1.0})\n",
      "       If (feature 16 in {0.0})\n",
      "        If (feature 2 <= 51.75)\n",
      "         Predict: 3.702507256471535\n",
      "        Else (feature 2 > 51.75)\n",
      "         Predict: 11.052062845658748\n",
      "       Else (feature 16 not in {0.0})\n",
      "        If (feature 648 in {0.0})\n",
      "         Predict: 0.0\n",
      "        Else (feature 648 not in {0.0})\n",
      "         Predict: 14.737659737616214\n",
      "  Tree 2 (weight 1.0):\n",
      "    If (feature 648 in {0.0})\n",
      "     If (feature 6 <= 0.15000000596046448)\n",
      "      If (feature 436 in {0.0})\n",
      "       If (feature 375 in {0.0})\n",
      "        If (feature 408 in {0.0})\n",
      "         Predict: 0.020491370592493244\n",
      "        Else (feature 408 not in {0.0})\n",
      "         Predict: 16.059999465942383\n",
      "       Else (feature 375 not in {0.0})\n",
      "        If (feature 417 in {0.0})\n",
      "         Predict: 0.0\n",
      "        Else (feature 417 not in {0.0})\n",
      "         Predict: 8.789999961853027\n",
      "      Else (feature 436 not in {0.0})\n",
      "       Predict: 18.579999923706055\n",
      "     Else (feature 6 > 0.15000000596046448)\n",
      "      If (feature 3 <= -0.75)\n",
      "       If (feature 1 <= 0.5049999952316284)\n",
      "        Predict: 0.0\n",
      "       Else (feature 1 > 0.5049999952316284)\n",
      "        Predict: 1.0\n",
      "      Else (feature 3 > -0.75)\n",
      "       If (feature 651 in {0.0})\n",
      "        If (feature 652 in {0.0})\n",
      "         Predict: 2.5655604111917134E-4\n",
      "        Else (feature 652 not in {0.0})\n",
      "         Predict: 2.0\n",
      "       Else (feature 651 not in {0.0})\n",
      "        If (feature 510 in {0.0})\n",
      "         Predict: 0.0032037019651605\n",
      "        Else (feature 510 not in {0.0})\n",
      "         Predict: 0.27162162677661794\n",
      "    Else (feature 648 not in {0.0})\n",
      "     If (feature 1 <= 7.615000009536743)\n",
      "      If (feature 14 in {1.0})\n",
      "       If (feature 7 <= 1.25)\n",
      "        If (feature 253 in {0.0})\n",
      "         Predict: 1.824712547524282\n",
      "        Else (feature 253 not in {0.0})\n",
      "         Predict: 4.18697234195547\n",
      "       Else (feature 7 > 1.25)\n",
      "        If (feature 493 in {0.0})\n",
      "         Predict: 2.5180805538859907\n",
      "        Else (feature 493 not in {0.0})\n",
      "         Predict: 4.554023164702859\n",
      "      Else (feature 14 not in {1.0})\n",
      "       If (feature 15 in {0.0})\n",
      "        If (feature 5 <= 5.880000114440918)\n",
      "         Predict: 7.183862412038116\n",
      "        Else (feature 5 > 5.880000114440918)\n",
      "         Predict: 11.14104996497264\n",
      "       Else (feature 15 not in {0.0})\n",
      "        If (feature 372 in {0.0})\n",
      "         Predict: 11.087312789501905\n",
      "        Else (feature 372 not in {0.0})\n",
      "         Predict: 130.5050015449524\n",
      "     Else (feature 1 > 7.615000009536743)\n",
      "      If (feature 4 <= 0.25)\n",
      "       If (feature 16 in {0.0})\n",
      "        If (feature 646 in {0.0})\n",
      "         Predict: 5.648625603386442\n",
      "        Else (feature 646 not in {0.0})\n",
      "         Predict: 17.29927746690611\n",
      "       Else (feature 16 not in {0.0})\n",
      "        If (feature 3 <= 0.75)\n",
      "         Predict: 14.59957873437869\n",
      "        Else (feature 3 > 0.75)\n",
      "         Predict: 16.201060040130745\n",
      "      Else (feature 4 > 0.25)\n",
      "       If (feature 2 <= 51.75)\n",
      "        If (feature 18 in {1.0})\n",
      "         Predict: 0.6192967870926581\n",
      "        Else (feature 18 not in {1.0})\n",
      "         Predict: 7.096103783303223\n",
      "       Else (feature 2 > 51.75)\n",
      "        If (feature 646 in {0.0})\n",
      "         Predict: 10.688370152244168\n",
      "        Else (feature 646 not in {0.0})\n",
      "         Predict: 16.860394552605747\n",
      "  Tree 3 (weight 1.0):\n",
      "    If (feature 648 in {0.0})\n",
      "     If (feature 142 in {0.0})\n",
      "      If (feature 6 <= 0.15000000596046448)\n",
      "       If (feature 382 in {0.0})\n",
      "        If (feature 581 in {0.0})\n",
      "         Predict: 0.02225594876886387\n",
      "        Else (feature 581 not in {0.0})\n",
      "         Predict: 3.020000139872233\n",
      "       Else (feature 382 not in {0.0})\n",
      "        If (feature 348 in {0.0})\n",
      "         Predict: 0.0\n",
      "        Else (feature 348 not in {0.0})\n",
      "         Predict: 19.15999984741211\n",
      "      Else (feature 6 > 0.15000000596046448)\n",
      "       If (feature 3 <= -0.75)\n",
      "        If (feature 1 <= 0.35500000417232513)\n",
      "         Predict: 0.0\n",
      "        Else (feature 1 > 0.35500000417232513)\n",
      "         Predict: 1.0\n",
      "       Else (feature 3 > -0.75)\n",
      "        If (feature 12 in {0.0})\n",
      "         Predict: 2.31963699366465E-4\n",
      "        Else (feature 12 not in {0.0})\n",
      "         Predict: 0.007726504300557898\n",
      "     Else (feature 142 not in {0.0})\n",
      "      If (feature 651 in {0.0})\n",
      "       Predict: 0.0\n",
      "      Else (feature 651 not in {0.0})\n",
      "       Predict: 16.059999465942383\n",
      "    Else (feature 648 not in {0.0})\n",
      "     If (feature 1 <= 7.615000009536743)\n",
      "      If (feature 2 <= 13.75)\n",
      "       If (feature 3 <= 0.25)\n",
      "        If (feature 1 <= 1.284999966621399)\n",
      "         Predict: 1.763004457184386\n",
      "        Else (feature 1 > 1.284999966621399)\n",
      "         Predict: 2.366482343302154\n",
      "       Else (feature 3 > 0.25)\n",
      "        If (feature 2 <= 8.25)\n",
      "         Predict: 1.8093501015383477\n",
      "        Else (feature 2 > 8.25)\n",
      "         Predict: 2.561365321745342\n",
      "      Else (feature 2 > 13.75)\n",
      "       If (feature 5 <= 5.650000095367432)\n",
      "        If (feature 18 in {0.0})\n",
      "         Predict: 3.8281523391150563\n",
      "        Else (feature 18 not in {0.0})\n",
      "         Predict: 8.017660063004026\n",
      "       Else (feature 5 > 5.650000095367432)\n",
      "        If (feature 14 in {1.0})\n",
      "         Predict: 5.140564600356763\n",
      "        Else (feature 14 not in {1.0})\n",
      "         Predict: 10.943340254525546\n",
      "     Else (feature 1 > 7.615000009536743)\n",
      "      If (feature 1 <= 16.0600004196167)\n",
      "       If (feature 382 in {0.0})\n",
      "        If (feature 2 <= 34.75)\n",
      "         Predict: 6.452612705211854\n",
      "        Else (feature 2 > 34.75)\n",
      "         Predict: 8.230792043777702\n",
      "       Else (feature 382 not in {0.0})\n",
      "        If (feature 2 <= 3.75)\n",
      "         Predict: 32.71666669845581\n",
      "        Else (feature 2 > 3.75)\n",
      "         Predict: 13.509510989872204\n",
      "      Else (feature 1 > 16.0600004196167)\n",
      "       If (feature 646 in {0.0})\n",
      "        If (feature 382 in {0.0})\n",
      "         Predict: 10.486990467910081\n",
      "        Else (feature 382 not in {0.0})\n",
      "         Predict: 15.654538997162927\n",
      "       Else (feature 646 not in {0.0})\n",
      "        If (feature 183 in {0.0})\n",
      "         Predict: 17.482091264330613\n",
      "        Else (feature 183 not in {0.0})\n",
      "         Predict: 24.331249742176045\n",
      "  Tree 4 (weight 1.0):\n",
      "    If (feature 648 in {0.0})\n",
      "     If (feature 6 <= 0.15000000596046448)\n",
      "      If (feature 408 in {0.0})\n",
      "       If (feature 156 in {0.0})\n",
      "        If (feature 434 in {0.0})\n",
      "         Predict: 0.02119886604167518\n",
      "        Else (feature 434 not in {0.0})\n",
      "         Predict: 1.177142824445452\n",
      "       Else (feature 156 not in {0.0})\n",
      "        If (feature 1 <= 7.615000009536743)\n",
      "         Predict: 0.0\n",
      "        Else (feature 1 > 7.615000009536743)\n",
      "         Predict: 11.979999542236328\n",
      "      Else (feature 408 not in {0.0})\n",
      "       Predict: 16.059999465942383\n",
      "     Else (feature 6 > 0.15000000596046448)\n",
      "      If (feature 649 in {1.0})\n",
      "       If (feature 241 in {0.0})\n",
      "        If (feature 324 in {0.0})\n",
      "         Predict: 2.2700948168832982E-4\n",
      "        Else (feature 324 not in {0.0})\n",
      "         Predict: 0.004280243298040099\n",
      "       Else (feature 241 not in {0.0})\n",
      "        If (feature 0 <= 1.5)\n",
      "         Predict: 0.0\n",
      "        Else (feature 0 > 1.5)\n",
      "         Predict: 0.3466666539510091\n",
      "      Else (feature 649 not in {1.0})\n",
      "       If (feature 112 in {0.0})\n",
      "        If (feature 244 in {0.0})\n",
      "         Predict: 0.002007853291830377\n",
      "        Else (feature 244 not in {0.0})\n",
      "         Predict: 0.3654545523903587\n",
      "       Else (feature 112 not in {0.0})\n",
      "        If (feature 2 <= 22.75)\n",
      "         Predict: 0.0\n",
      "        Else (feature 2 > 22.75)\n",
      "         Predict: 3.3333333333333335\n",
      "    Else (feature 648 not in {0.0})\n",
      "     If (feature 1 <= 7.615000009536743)\n",
      "      If (feature 15 in {0.0})\n",
      "       If (feature 14 in {1.0})\n",
      "        If (feature 2 <= 12.75)\n",
      "         Predict: 2.0652788941572977\n",
      "        Else (feature 2 > 12.75)\n",
      "         Predict: 3.6977485539497383\n",
      "       Else (feature 14 not in {1.0})\n",
      "        If (feature 1 <= 3.0149999856948853)\n",
      "         Predict: 8.370406605959424\n",
      "        Else (feature 1 > 3.0149999856948853)\n",
      "         Predict: 4.557108681882283\n",
      "      Else (feature 15 not in {0.0})\n",
      "       If (feature 380 in {0.0})\n",
      "        If (feature 4 <= 0.25)\n",
      "         Predict: 0.0\n",
      "        Else (feature 4 > 0.25)\n",
      "         Predict: 10.954147856380764\n",
      "       Else (feature 380 not in {0.0})\n",
      "        If (feature 10 in {0.0})\n",
      "         Predict: 12.15512813665928\n",
      "        Else (feature 10 not in {0.0})\n",
      "         Predict: 26.721818062053487\n",
      "     Else (feature 1 > 7.615000009536743)\n",
      "      If (feature 2 <= 51.75)\n",
      "       If (feature 5 <= 3.6899999380111694)\n",
      "        If (feature 1 <= 10.095000267028809)\n",
      "         Predict: 5.451252308258969\n",
      "        Else (feature 1 > 10.095000267028809)\n",
      "         Predict: 6.823825511019931\n",
      "       Else (feature 5 > 3.6899999380111694)\n",
      "        If (feature 18 in {1.0})\n",
      "         Predict: 1.5911159783577307\n",
      "        Else (feature 18 not in {1.0})\n",
      "         Predict: 7.945990841641398\n",
      "      Else (feature 2 > 51.75)\n",
      "       If (feature 4 <= 0.25)\n",
      "        If (feature 1 <= 16.0600004196167)\n",
      "         Predict: 12.84729287471776\n",
      "        Else (feature 1 > 16.0600004196167)\n",
      "         Predict: 15.4094558157475\n",
      "       Else (feature 4 > 0.25)\n",
      "        If (feature 7 <= 1.25)\n",
      "         Predict: 9.934659812961712\n",
      "        Else (feature 7 > 1.25)\n",
      "         Predict: 11.125567258646095\n",
      "  Tree 5 (weight 1.0):\n",
      "    If (feature 2 <= 27.25)\n",
      "     If (feature 649 in {1.0})\n",
      "      If (feature 3 <= -0.25)\n",
      "       If (feature 4 <= 0.25)\n",
      "        If (feature 257 in {0.0})\n",
      "         Predict: 0.015814479878720117\n",
      "        Else (feature 257 not in {0.0})\n",
      "         Predict: 0.8571428571428571\n",
      "       Else (feature 4 > 0.25)\n",
      "        If (feature 256 in {0.0})\n",
      "         Predict: 0.5351612875538487\n",
      "        Else (feature 256 not in {0.0})\n",
      "         Predict: 2.559999942779541\n",
      "      Else (feature 3 > -0.25)\n",
      "       If (feature 18 in {0.0})\n",
      "        If (feature 7 <= -1.25)\n",
      "         Predict: 0.024104749967642447\n",
      "        Else (feature 7 > -1.25)\n",
      "         Predict: 2.0663054603893127E-4\n",
      "       Else (feature 18 not in {0.0})\n",
      "        If (feature 9 in {1.0})\n",
      "         Predict: 0.0\n",
      "        Else (feature 9 not in {1.0})\n",
      "         Predict: 0.04449218884110451\n",
      "     Else (feature 649 not in {1.0})\n",
      "      If (feature 2 <= 12.75)\n",
      "       If (feature 650 in {1.0})\n",
      "        If (feature 526 in {0.0})\n",
      "         Predict: 0.0012866910263282314\n",
      "        Else (feature 526 not in {0.0})\n",
      "         Predict: 0.02662613982261133\n",
      "       Else (feature 650 not in {1.0})\n",
      "        If (feature 2 <= 8.25)\n",
      "         Predict: 1.7662713357678526\n",
      "        Else (feature 2 > 8.25)\n",
      "         Predict: 2.4660184549176978\n",
      "      Else (feature 2 > 12.75)\n",
      "       If (feature 648 in {0.0})\n",
      "        If (feature 645 in {0.0})\n",
      "         Predict: 0.0015057741573191316\n",
      "        Else (feature 645 not in {0.0})\n",
      "         Predict: 0.14954545552080328\n",
      "       Else (feature 648 not in {0.0})\n",
      "        If (feature 1 <= 5.694999933242798)\n",
      "         Predict: 3.511581210125128\n",
      "        Else (feature 1 > 5.694999933242798)\n",
      "         Predict: 4.870121728627958\n",
      "    Else (feature 2 > 27.25)\n",
      "     If (feature 14 in {1.0})\n",
      "      If (feature 253 in {0.0})\n",
      "       If (feature 648 in {0.0})\n",
      "        If (feature 487 in {0.0})\n",
      "         Predict: 9.274264399356674E-4\n",
      "        Else (feature 487 not in {0.0})\n",
      "         Predict: 0.13157894736842105\n",
      "       Else (feature 648 not in {0.0})\n",
      "        If (feature 1 <= 0.35500000417232513)\n",
      "         Predict: 0.23662467293090222\n",
      "        Else (feature 1 > 0.35500000417232513)\n",
      "         Predict: 6.916628745702707\n",
      "      Else (feature 253 not in {0.0})\n",
      "       If (feature 5 <= 2.7200000286102295)\n",
      "        If (feature 3 <= 0.75)\n",
      "         Predict: 5.092655603411663\n",
      "        Else (feature 3 > 0.75)\n",
      "         Predict: 5.843917738667304\n",
      "       Else (feature 5 > 2.7200000286102295)\n",
      "        If (feature 7 <= 1.25)\n",
      "         Predict: 5.795328672782152\n",
      "        Else (feature 7 > 1.25)\n",
      "         Predict: 7.194199988761995\n",
      "     Else (feature 14 not in {1.0})\n",
      "      If (feature 648 in {0.0})\n",
      "       If (feature 301 in {0.0})\n",
      "        If (feature 643 in {0.0})\n",
      "         Predict: 4.8104769567225354E-4\n",
      "        Else (feature 643 not in {0.0})\n",
      "         Predict: 0.026265823388401464\n",
      "       Else (feature 301 not in {0.0})\n",
      "        If (feature 10 in {1.0})\n",
      "         Predict: 0.0\n",
      "        Else (feature 10 not in {1.0})\n",
      "         Predict: 0.05716763204232806\n",
      "      Else (feature 648 not in {0.0})\n",
      "       If (feature 2 <= 51.75)\n",
      "        If (feature 5 <= 7.264999866485596)\n",
      "         Predict: 3.2440351329971793\n",
      "        Else (feature 5 > 7.264999866485596)\n",
      "         Predict: 8.945257297676479\n",
      "       Else (feature 2 > 51.75)\n",
      "        If (feature 382 in {0.0})\n",
      "         Predict: 11.200134407075625\n",
      "        Else (feature 382 not in {0.0})\n",
      "         Predict: 14.967514744693863\n",
      "  Tree 6 (weight 1.0):\n",
      "    If (feature 649 in {1.0})\n",
      "     If (feature 3 <= -0.25)\n",
      "      If (feature 2 <= 8.25)\n",
      "       If (feature 2 <= 3.75)\n",
      "        If (feature 642 in {0.0})\n",
      "         Predict: 0.013578198929604195\n",
      "        Else (feature 642 not in {0.0})\n",
      "         Predict: 0.8333333333333334\n",
      "       Else (feature 2 > 3.75)\n",
      "        If (feature 3 <= -0.75)\n",
      "         Predict: 0.28074073791503906\n",
      "        Else (feature 3 > -0.75)\n",
      "         Predict: 0.9039999961853027\n",
      "      Else (feature 2 > 8.25)\n",
      "       If (feature 544 in {1.0})\n",
      "        Predict: 0.0\n",
      "       Else (feature 544 not in {1.0})\n",
      "        If (feature 522 in {0.0})\n",
      "         Predict: 0.3657142775399344\n",
      "        Else (feature 522 not in {0.0})\n",
      "         Predict: 3.2850000262260437\n",
      "     Else (feature 3 > -0.25)\n",
      "      If (feature 6 <= -0.15000000596046448)\n",
      "       If (feature 380 in {0.0})\n",
      "        If (feature 202 in {0.0})\n",
      "         Predict: 0.02407174944343054\n",
      "        Else (feature 202 not in {0.0})\n",
      "         Predict: 2.765000104904175\n",
      "       Else (feature 380 not in {0.0})\n",
      "        Predict: 12.819999694824219\n",
      "      Else (feature 6 > -0.15000000596046448)\n",
      "       If (feature 487 in {0.0})\n",
      "        If (feature 12 in {0.0})\n",
      "         Predict: 2.0475682997847928E-4\n",
      "        Else (feature 12 not in {0.0})\n",
      "         Predict: 0.006294847750943486\n",
      "       Else (feature 487 not in {0.0})\n",
      "        If (feature 0 <= 3.5)\n",
      "         Predict: 0.0\n",
      "        Else (feature 0 > 3.5)\n",
      "         Predict: 0.273972602739726\n",
      "    Else (feature 649 not in {1.0})\n",
      "     If (feature 2 <= 27.25)\n",
      "      If (feature 2 <= 12.75)\n",
      "       If (feature 2 <= 7.75)\n",
      "        If (feature 650 in {1.0})\n",
      "         Predict: 0.002411752905121046\n",
      "        Else (feature 650 not in {1.0})\n",
      "         Predict: 1.7235884981594687\n",
      "       Else (feature 2 > 7.75)\n",
      "        If (feature 7 <= 1.25)\n",
      "         Predict: 1.9157557279857709\n",
      "        Else (feature 7 > 1.25)\n",
      "         Predict: 2.441162612993571\n",
      "      Else (feature 2 > 12.75)\n",
      "       If (feature 5 <= 5.059999942779541)\n",
      "        If (feature 2 <= 17.75)\n",
      "         Predict: 3.2287734693499894\n",
      "        Else (feature 2 > 17.75)\n",
      "         Predict: 4.249577560509214\n",
      "       Else (feature 5 > 5.059999942779541)\n",
      "        If (feature 14 in {0.0})\n",
      "         Predict: 1.243990379193117\n",
      "        Else (feature 14 not in {0.0})\n",
      "         Predict: 6.025330712015647\n",
      "     Else (feature 2 > 27.25)\n",
      "      If (feature 5 <= 5.650000095367432)\n",
      "       If (feature 648 in {0.0})\n",
      "        If (feature 244 in {0.0})\n",
      "         Predict: 0.012641921704513016\n",
      "        Else (feature 244 not in {0.0})\n",
      "         Predict: 2.0100000381469725\n",
      "       Else (feature 648 not in {0.0})\n",
      "        If (feature 2 <= 51.75)\n",
      "         Predict: 6.091356961189971\n",
      "        Else (feature 2 > 51.75)\n",
      "         Predict: 10.577161726830601\n",
      "      Else (feature 5 > 5.650000095367432)\n",
      "       If (feature 2 <= 51.75)\n",
      "        If (feature 7 <= 1.25)\n",
      "         Predict: 5.017502323937904\n",
      "        Else (feature 7 > 1.25)\n",
      "         Predict: 8.466392858788659\n",
      "       Else (feature 2 > 51.75)\n",
      "        If (feature 646 in {0.0})\n",
      "         Predict: 11.170865147598063\n",
      "        Else (feature 646 not in {0.0})\n",
      "         Predict: 16.957485100115818\n",
      "  Tree 7 (weight 1.0):\n",
      "    If (feature 2 <= 27.25)\n",
      "     If (feature 648 in {0.0})\n",
      "      If (feature 408 in {0.0})\n",
      "       If (feature 3 <= -0.25)\n",
      "        If (feature 581 in {0.0})\n",
      "         Predict: 0.02133559925347559\n",
      "        Else (feature 581 not in {0.0})\n",
      "         Predict: 9.0600004196167\n",
      "       Else (feature 3 > -0.25)\n",
      "        If (feature 6 <= 0.15000000596046448)\n",
      "         Predict: 0.027926387036973543\n",
      "        Else (feature 6 > 0.15000000596046448)\n",
      "         Predict: 2.1938951107099567E-4\n",
      "      Else (feature 408 not in {0.0})\n",
      "       If (feature 6 <= -0.15000000596046448)\n",
      "        Predict: 16.059999465942383\n",
      "       Else (feature 6 > -0.15000000596046448)\n",
      "        Predict: 0.0\n",
      "     Else (feature 648 not in {0.0})\n",
      "      If (feature 253 in {0.0})\n",
      "       If (feature 5 <= 2.7200000286102295)\n",
      "        If (feature 380 in {0.0})\n",
      "         Predict: 2.451139613119588\n",
      "        Else (feature 380 not in {0.0})\n",
      "         Predict: 9.884825277112784\n",
      "       Else (feature 5 > 2.7200000286102295)\n",
      "        If (feature 334 in {0.0})\n",
      "         Predict: 5.59169963442141\n",
      "        Else (feature 334 not in {0.0})\n",
      "         Predict: 98.0\n",
      "      Else (feature 253 not in {0.0})\n",
      "       If (feature 646 in {0.0})\n",
      "        If (feature 388 in {1.0})\n",
      "         Predict: 3.0127208444198814\n",
      "        Else (feature 388 not in {1.0})\n",
      "         Predict: 5.450951513405288\n",
      "       Else (feature 646 not in {0.0})\n",
      "        If (feature 0 <= 0.5)\n",
      "         Predict: 210.0\n",
      "        Else (feature 0 > 0.5)\n",
      "         Predict: 89.33333333333333\n",
      "    Else (feature 2 > 27.25)\n",
      "     If (feature 14 in {1.0})\n",
      "      If (feature 648 in {0.0})\n",
      "       If (feature 12 in {0.0})\n",
      "        If (feature 456 in {0.0})\n",
      "         Predict: 4.0658800494901395E-4\n",
      "        Else (feature 456 not in {0.0})\n",
      "         Predict: 0.0998630164420768\n",
      "       Else (feature 12 not in {0.0})\n",
      "        If (feature 247 in {1.0})\n",
      "         Predict: 0.0\n",
      "        Else (feature 247 not in {1.0})\n",
      "         Predict: 0.14556700912947507\n",
      "      Else (feature 648 not in {0.0})\n",
      "       If (feature 1 <= 0.35500000417232513)\n",
      "        If (feature 256 in {0.0})\n",
      "         Predict: 0.08555430403085648\n",
      "        Else (feature 256 not in {0.0})\n",
      "         Predict: 6.048780487804878\n",
      "       Else (feature 1 > 0.35500000417232513)\n",
      "        If (feature 2 <= 34.75)\n",
      "         Predict: 6.622323127999015\n",
      "        Else (feature 2 > 34.75)\n",
      "         Predict: 8.149453607184357\n",
      "     Else (feature 14 not in {1.0})\n",
      "      If (feature 2 <= 51.75)\n",
      "       If (feature 1 <= 7.615000009536743)\n",
      "        If (feature 649 in {1.0})\n",
      "         Predict: 0.0\n",
      "        Else (feature 649 not in {1.0})\n",
      "         Predict: 6.126107933667656\n",
      "       Else (feature 1 > 7.615000009536743)\n",
      "        If (feature 646 in {0.0})\n",
      "         Predict: 1.0293431958973525\n",
      "        Else (feature 646 not in {0.0})\n",
      "         Predict: 4.781269351104073\n",
      "      Else (feature 2 > 51.75)\n",
      "       If (feature 650 in {1.0})\n",
      "        If (feature 253 in {0.0})\n",
      "         Predict: 0.0053548388327321695\n",
      "        Else (feature 253 not in {0.0})\n",
      "         Predict: 0.1282051282051282\n",
      "       Else (feature 650 not in {1.0})\n",
      "        If (feature 648 in {0.0})\n",
      "         Predict: 3.018335772680265E-4\n",
      "        Else (feature 648 not in {0.0})\n",
      "         Predict: 11.462138914654599\n",
      "  Tree 8 (weight 1.0):\n",
      "    If (feature 648 in {0.0})\n",
      "     If (feature 651 in {0.0})\n",
      "      If (feature 18 in {0.0})\n",
      "       If (feature 7 <= -1.25)\n",
      "        If (feature 1 <= 2.5049999952316284)\n",
      "         Predict: 0.0037588414059479495\n",
      "        Else (feature 1 > 2.5049999952316284)\n",
      "         Predict: 0.07922480642333511\n",
      "       Else (feature 7 > -1.25)\n",
      "        If (feature 652 in {0.0})\n",
      "         Predict: 2.707854106023247E-4\n",
      "        Else (feature 652 not in {0.0})\n",
      "         Predict: 0.2857142857142857\n",
      "      Else (feature 18 not in {0.0})\n",
      "       If (feature 0 <= 3.5)\n",
      "        If (feature 2 <= 3.75)\n",
      "         Predict: 0.016906597722567546\n",
      "        Else (feature 2 > 3.75)\n",
      "         Predict: 0.0\n",
      "       Else (feature 0 > 3.5)\n",
      "        If (feature 7 <= -1.25)\n",
      "         Predict: 14.974999904632568\n",
      "        Else (feature 7 > -1.25)\n",
      "         Predict: 0.0\n",
      "     Else (feature 651 not in {0.0})\n",
      "      If (feature 343 in {0.0})\n",
      "       If (feature 228 in {0.0})\n",
      "        If (feature 6 <= 0.15000000596046448)\n",
      "         Predict: 0.030398831269965718\n",
      "        Else (feature 6 > 0.15000000596046448)\n",
      "         Predict: 0.0017595007327203423\n",
      "       Else (feature 228 not in {0.0})\n",
      "        If (feature 1 <= 16.0600004196167)\n",
      "         Predict: 0.0\n",
      "        Else (feature 1 > 16.0600004196167)\n",
      "         Predict: 18.579999923706055\n",
      "      Else (feature 343 not in {0.0})\n",
      "       If (feature 2 <= 3.75)\n",
      "        Predict: 12.149999618530273\n",
      "       Else (feature 2 > 3.75)\n",
      "        Predict: 0.0\n",
      "    Else (feature 648 not in {0.0})\n",
      "     If (feature 2 <= 27.25)\n",
      "      If (feature 253 in {0.0})\n",
      "       If (feature 116 in {0.0})\n",
      "        If (feature 519 in {0.0})\n",
      "         Predict: 2.461285089845772\n",
      "        Else (feature 519 not in {0.0})\n",
      "         Predict: 6.280155121057672\n",
      "       Else (feature 116 not in {0.0})\n",
      "        If (feature 382 in {0.0})\n",
      "         Predict: 6.428571428571429\n",
      "        Else (feature 382 not in {0.0})\n",
      "         Predict: 40.23611077873243\n",
      "      Else (feature 253 not in {0.0})\n",
      "       If (feature 7 <= 1.25)\n",
      "        If (feature 5 <= 5.650000095367432)\n",
      "         Predict: 3.9173030507986804\n",
      "        Else (feature 5 > 5.650000095367432)\n",
      "         Predict: 5.774462424828953\n",
      "       Else (feature 7 > 1.25)\n",
      "        If (feature 2 <= 22.75)\n",
      "         Predict: 5.898564117271583\n",
      "        Else (feature 2 > 22.75)\n",
      "         Predict: 6.645806698728543\n",
      "     Else (feature 2 > 27.25)\n",
      "      If (feature 16 in {0.0})\n",
      "       If (feature 2 <= 51.75)\n",
      "        If (feature 7 <= 1.25)\n",
      "         Predict: 5.51419260017215\n",
      "        Else (feature 7 > 1.25)\n",
      "         Predict: 7.57273632122356\n",
      "       Else (feature 2 > 51.75)\n",
      "        If (feature 18 in {0.0})\n",
      "         Predict: 10.81145365578435\n",
      "        Else (feature 18 not in {0.0})\n",
      "         Predict: 12.135708526514607\n",
      "      Else (feature 16 not in {0.0})\n",
      "       If (feature 382 in {0.0})\n",
      "        If (feature 183 in {0.0})\n",
      "         Predict: 13.437776715113175\n",
      "        Else (feature 183 not in {0.0})\n",
      "         Predict: 25.842856611524308\n",
      "       Else (feature 382 not in {0.0})\n",
      "        If (feature 5 <= 17.640000343322754)\n",
      "         Predict: 14.546274368988858\n",
      "        Else (feature 5 > 17.640000343322754)\n",
      "         Predict: 16.70670481827103\n",
      "  Tree 9 (weight 1.0):\n",
      "    If (feature 648 in {0.0})\n",
      "     If (feature 18 in {0.0})\n",
      "      If (feature 6 <= 0.15000000596046448)\n",
      "       If (feature 436 in {0.0})\n",
      "        If (feature 259 in {0.0})\n",
      "         Predict: 0.014937822736147232\n",
      "        Else (feature 259 not in {0.0})\n",
      "         Predict: 0.36237499862909317\n",
      "       Else (feature 436 not in {0.0})\n",
      "        Predict: 18.579999923706055\n",
      "      Else (feature 6 > 0.15000000596046448)\n",
      "       If (feature 652 in {0.0})\n",
      "        If (feature 571 in {0.0})\n",
      "         Predict: 2.3568365208819067E-4\n",
      "        Else (feature 571 not in {0.0})\n",
      "         Predict: 0.05750724543695864\n",
      "       Else (feature 652 not in {0.0})\n",
      "        Predict: 2.0\n",
      "     Else (feature 18 not in {0.0})\n",
      "      If (feature 142 in {0.0})\n",
      "       If (feature 6 <= -0.15000000596046448)\n",
      "        If (feature 417 in {0.0})\n",
      "         Predict: 0.1821236514276074\n",
      "        Else (feature 417 not in {0.0})\n",
      "         Predict: 9.09000015258789\n",
      "       Else (feature 6 > -0.15000000596046448)\n",
      "        Predict: 0.0\n",
      "      Else (feature 142 not in {0.0})\n",
      "       Predict: 16.059999465942383\n",
      "    Else (feature 648 not in {0.0})\n",
      "     If (feature 2 <= 27.25)\n",
      "      If (feature 2 <= 13.25)\n",
      "       If (feature 646 in {0.0})\n",
      "        If (feature 336 in {0.0})\n",
      "         Predict: 2.088632863625272\n",
      "        Else (feature 336 not in {0.0})\n",
      "         Predict: 90.69999694824219\n",
      "       Else (feature 646 not in {0.0})\n",
      "        If (feature 4 <= 0.25)\n",
      "         Predict: 51.30616656790177\n",
      "        Else (feature 4 > 0.25)\n",
      "         Predict: 8.839999972137216\n",
      "      Else (feature 2 > 13.25)\n",
      "       If (feature 1 <= 5.694999933242798)\n",
      "        If (feature 2 <= 17.75)\n",
      "         Predict: 3.31451917551226\n",
      "        Else (feature 2 > 17.75)\n",
      "         Predict: 4.142738442259124\n",
      "       Else (feature 1 > 5.694999933242798)\n",
      "        If (feature 1 <= 7.615000009536743)\n",
      "         Predict: 4.588160688619512\n",
      "        Else (feature 1 > 7.615000009536743)\n",
      "         Predict: 5.679036648342488\n",
      "     Else (feature 2 > 27.25)\n",
      "      If (feature 1 <= 16.0600004196167)\n",
      "       If (feature 5 <= 5.650000095367432)\n",
      "        If (feature 18 in {0.0})\n",
      "         Predict: 6.249063392607833\n",
      "        Else (feature 18 not in {0.0})\n",
      "         Predict: 8.937608489119691\n",
      "       Else (feature 5 > 5.650000095367432)\n",
      "        If (feature 14 in {1.0})\n",
      "         Predict: 8.093021400468263\n",
      "        Else (feature 14 not in {1.0})\n",
      "         Predict: 10.992319899229038\n",
      "      Else (feature 1 > 16.0600004196167)\n",
      "       If (feature 5 <= 10.25)\n",
      "        If (feature 646 in {0.0})\n",
      "         Predict: 10.48430080241743\n",
      "        Else (feature 646 not in {0.0})\n",
      "         Predict: 16.604745019426055\n",
      "       Else (feature 5 > 10.25)\n",
      "        If (feature 646 in {0.0})\n",
      "         Predict: 14.82070105148884\n",
      "        Else (feature 646 not in {0.0})\n",
      "         Predict: 18.476729397775646\n",
      "  Tree 10 (weight 1.0):\n",
      "    If (feature 2 <= 27.25)\n",
      "     If (feature 253 in {0.0})\n",
      "      If (feature 648 in {0.0})\n",
      "       If (feature 4 <= 0.25)\n",
      "        If (feature 581 in {0.0})\n",
      "         Predict: 0.015469868319967937\n",
      "        Else (feature 581 not in {0.0})\n",
      "         Predict: 4.53000020980835\n",
      "       Else (feature 4 > 0.25)\n",
      "        If (feature 6 <= 0.15000000596046448)\n",
      "         Predict: 0.11264659240015336\n",
      "        Else (feature 6 > 0.15000000596046448)\n",
      "         Predict: 2.520416452905111E-4\n",
      "      Else (feature 648 not in {0.0})\n",
      "       If (feature 1 <= 2.5049999952316284)\n",
      "        If (feature 382 in {0.0})\n",
      "         Predict: 2.0998984005079433\n",
      "        Else (feature 382 not in {0.0})\n",
      "         Predict: 46.66615371749951\n",
      "       Else (feature 1 > 2.5049999952316284)\n",
      "        If (feature 2 <= 17.75)\n",
      "         Predict: 3.111303980027153\n",
      "        Else (feature 2 > 17.75)\n",
      "         Predict: 4.38054968678581\n",
      "     Else (feature 253 not in {0.0})\n",
      "      If (feature 2 <= 19.75)\n",
      "       If (feature 648 in {0.0})\n",
      "        Predict: 0.0\n",
      "       Else (feature 648 not in {0.0})\n",
      "        If (feature 2 <= 3.75)\n",
      "         Predict: 12.582837855090967\n",
      "        Else (feature 2 > 3.75)\n",
      "         Predict: 3.275466791157851\n",
      "      Else (feature 2 > 19.75)\n",
      "       If (feature 5 <= 0.004999999888241291)\n",
      "        If (feature 7 <= 1.25)\n",
      "         Predict: 2.8724043011682494\n",
      "        Else (feature 7 > 1.25)\n",
      "         Predict: 4.657099801796698\n",
      "       Else (feature 5 > 0.004999999888241291)\n",
      "        If (feature 2 <= 22.75)\n",
      "         Predict: 4.563478973148183\n",
      "        Else (feature 2 > 22.75)\n",
      "         Predict: 5.545451490759174\n",
      "    Else (feature 2 > 27.25)\n",
      "     If (feature 7 <= 1.25)\n",
      "      If (feature 2 <= 51.75)\n",
      "       If (feature 2 <= 34.75)\n",
      "        If (feature 5 <= 5.059999942779541)\n",
      "         Predict: 2.61817360269766\n",
      "        Else (feature 5 > 5.059999942779541)\n",
      "         Predict: 4.555698865739328\n",
      "       Else (feature 2 > 34.75)\n",
      "        If (feature 648 in {0.0})\n",
      "         Predict: 3.905794640991358E-4\n",
      "        Else (feature 648 not in {0.0})\n",
      "         Predict: 6.090830205578174\n",
      "      Else (feature 2 > 51.75)\n",
      "       If (feature 648 in {0.0})\n",
      "        If (feature 17 in {0.0})\n",
      "         Predict: 4.656794262829468E-4\n",
      "        Else (feature 17 not in {0.0})\n",
      "         Predict: 0.009191176470588236\n",
      "       Else (feature 648 not in {0.0})\n",
      "        If (feature 5 <= 8.954999923706055)\n",
      "         Predict: 10.19213258506678\n",
      "        Else (feature 5 > 8.954999923706055)\n",
      "         Predict: 14.877730470162296\n",
      "     Else (feature 7 > 1.25)\n",
      "      If (feature 648 in {0.0})\n",
      "       If (feature 12 in {0.0})\n",
      "        If (feature 643 in {0.0})\n",
      "         Predict: 4.426243470735409E-4\n",
      "        Else (feature 643 not in {0.0})\n",
      "         Predict: 0.03143939466187448\n",
      "       Else (feature 12 not in {0.0})\n",
      "        If (feature 285 in {0.0})\n",
      "         Predict: 0.0\n",
      "        Else (feature 285 not in {0.0})\n",
      "         Predict: 7.059999942779541\n",
      "      Else (feature 648 not in {0.0})\n",
      "       If (feature 2 <= 51.75)\n",
      "        If (feature 5 <= 0.5049999998882413)\n",
      "         Predict: 6.397378563777513\n",
      "        Else (feature 5 > 0.5049999998882413)\n",
      "         Predict: 8.495441735219803\n",
      "       Else (feature 2 > 51.75)\n",
      "        If (feature 5 <= 10.25)\n",
      "         Predict: 11.077491679357957\n",
      "        Else (feature 5 > 10.25)\n",
      "         Predict: 15.137742132327539\n",
      "  Tree 11 (weight 1.0):\n",
      "    If (feature 648 in {0.0})\n",
      "     If (feature 142 in {0.0})\n",
      "      If (feature 7 <= -1.25)\n",
      "       If (feature 513 in {0.0})\n",
      "        If (feature 436 in {0.0})\n",
      "         Predict: 0.022265174885928864\n",
      "        Else (feature 436 not in {0.0})\n",
      "         Predict: 18.579999923706055\n",
      "       Else (feature 513 not in {0.0})\n",
      "        If (feature 0 <= 1.5)\n",
      "         Predict: 0.6505882599774528\n",
      "        Else (feature 0 > 1.5)\n",
      "         Predict: 0.0\n",
      "      Else (feature 7 > -1.25)\n",
      "       If (feature 3 <= -0.25)\n",
      "        If (feature 382 in {0.0})\n",
      "         Predict: 0.021683599156461363\n",
      "        Else (feature 382 not in {0.0})\n",
      "         Predict: 6.386666615804036\n",
      "       Else (feature 3 > -0.25)\n",
      "        If (feature 343 in {0.0})\n",
      "         Predict: 3.1385654579470695E-4\n",
      "        Else (feature 343 not in {0.0})\n",
      "         Predict: 0.09209183405856697\n",
      "     Else (feature 142 not in {0.0})\n",
      "      If (feature 3 <= 0.25)\n",
      "       Predict: 16.059999465942383\n",
      "      Else (feature 3 > 0.25)\n",
      "       Predict: 0.0\n",
      "    Else (feature 648 not in {0.0})\n",
      "     If (feature 1 <= 7.615000009536743)\n",
      "      If (feature 1 <= 2.7450000047683716)\n",
      "       If (feature 2 <= 51.75)\n",
      "        If (feature 7 <= 1.25)\n",
      "         Predict: 1.6634389731350794\n",
      "        Else (feature 7 > 1.25)\n",
      "         Predict: 2.1774447582778236\n",
      "       Else (feature 2 > 51.75)\n",
      "        If (feature 467 in {1.0})\n",
      "         Predict: 0.0\n",
      "        Else (feature 467 not in {1.0})\n",
      "         Predict: 10.966404866581989\n",
      "      Else (feature 1 > 2.7450000047683716)\n",
      "       If (feature 1 <= 4.674999952316284)\n",
      "        If (feature 15 in {0.0})\n",
      "         Predict: 3.3813310683069258\n",
      "        Else (feature 15 not in {0.0})\n",
      "         Predict: 11.190575268670855\n",
      "       Else (feature 1 > 4.674999952316284)\n",
      "        If (feature 2 <= 22.75)\n",
      "         Predict: 4.073045941594322\n",
      "        Else (feature 2 > 22.75)\n",
      "         Predict: 5.176851286641261\n",
      "     Else (feature 1 > 7.615000009536743)\n",
      "      If (feature 14 in {1.0})\n",
      "       If (feature 519 in {0.0})\n",
      "        If (feature 5 <= 3.6899999380111694)\n",
      "         Predict: 6.414559066159356\n",
      "        Else (feature 5 > 3.6899999380111694)\n",
      "         Predict: 7.833134698923991\n",
      "       Else (feature 519 not in {0.0})\n",
      "        If (feature 7 <= 1.25)\n",
      "         Predict: 6.946868700677153\n",
      "        Else (feature 7 > 1.25)\n",
      "         Predict: 8.192977364324717\n",
      "      Else (feature 14 not in {1.0})\n",
      "       If (feature 5 <= 10.25)\n",
      "        If (feature 15 in {0.0})\n",
      "         Predict: 7.702889654382366\n",
      "        Else (feature 15 not in {0.0})\n",
      "         Predict: 10.988721522803836\n",
      "       Else (feature 5 > 10.25)\n",
      "        If (feature 646 in {0.0})\n",
      "         Predict: 14.697044184041118\n",
      "        Else (feature 646 not in {0.0})\n",
      "         Predict: 17.302639778101025\n",
      "  Tree 12 (weight 1.0):\n",
      "    If (feature 649 in {1.0})\n",
      "     If (feature 571 in {0.0})\n",
      "      If (feature 6 <= 0.15000000596046448)\n",
      "       If (feature 426 in {0.0})\n",
      "        If (feature 4 <= 0.25)\n",
      "         Predict: 0.008610729119582003\n",
      "        Else (feature 4 > 0.25)\n",
      "         Predict: 0.0680616738687703\n",
      "       Else (feature 426 not in {0.0})\n",
      "        If (feature 228 in {0.0})\n",
      "         Predict: 0.0\n",
      "        Else (feature 228 not in {0.0})\n",
      "         Predict: 3.259999990463257\n",
      "      Else (feature 6 > 0.15000000596046448)\n",
      "       If (feature 3 <= -0.75)\n",
      "        If (feature 611 in {1.0})\n",
      "         Predict: 0.0\n",
      "        Else (feature 611 not in {1.0})\n",
      "         Predict: 0.5\n",
      "       Else (feature 3 > -0.75)\n",
      "        If (feature 338 in {0.0})\n",
      "         Predict: 1.839742845040263E-4\n",
      "        Else (feature 338 not in {0.0})\n",
      "         Predict: 0.017678474275552608\n",
      "     Else (feature 571 not in {0.0})\n",
      "      If (feature 10 in {1.0})\n",
      "       Predict: 0.0\n",
      "      Else (feature 10 not in {1.0})\n",
      "       If (feature 9 in {1.0})\n",
      "        If (feature 1 <= 2.125)\n",
      "         Predict: 0.25999999046325684\n",
      "        Else (feature 1 > 2.125)\n",
      "         Predict: 0.0\n",
      "       Else (feature 9 not in {1.0})\n",
      "        If (feature 1 <= 5.694999933242798)\n",
      "         Predict: 0.0\n",
      "        Else (feature 1 > 5.694999933242798)\n",
      "         Predict: 7.059999942779541\n",
      "    Else (feature 649 not in {1.0})\n",
      "     If (feature 2 <= 27.25)\n",
      "      If (feature 5 <= 2.7200000286102295)\n",
      "       If (feature 1 <= 2.3049999475479126)\n",
      "        If (feature 6 <= 0.15000000596046448)\n",
      "         Predict: 0.03421649317015533\n",
      "        Else (feature 6 > 0.15000000596046448)\n",
      "         Predict: 2.0499839283698162\n",
      "       Else (feature 1 > 2.3049999475479126)\n",
      "        If (feature 4 <= -0.25)\n",
      "         Predict: 0.10489701100584875\n",
      "        Else (feature 4 > -0.25)\n",
      "         Predict: 3.4293333552219147\n",
      "      Else (feature 5 > 2.7200000286102295)\n",
      "       If (feature 1 <= 7.615000009536743)\n",
      "        If (feature 648 in {0.0})\n",
      "         Predict: 0.025606694081837165\n",
      "        Else (feature 648 not in {0.0})\n",
      "         Predict: 5.249050181591821\n",
      "       Else (feature 1 > 7.615000009536743)\n",
      "        If (feature 650 in {1.0})\n",
      "         Predict: 0.0\n",
      "        Else (feature 650 not in {1.0})\n",
      "         Predict: 6.551493494023097\n",
      "     Else (feature 2 > 27.25)\n",
      "      If (feature 2 <= 51.75)\n",
      "       If (feature 650 in {1.0})\n",
      "        Predict: 0.0\n",
      "       Else (feature 650 not in {1.0})\n",
      "        If (feature 5 <= 5.650000095367432)\n",
      "         Predict: 6.073416321435881\n",
      "        Else (feature 5 > 5.650000095367432)\n",
      "         Predict: 7.993239123513136\n",
      "      Else (feature 2 > 51.75)\n",
      "       If (feature 648 in {0.0})\n",
      "        If (feature 0 <= 0.5)\n",
      "         Predict: 0.10800000296698677\n",
      "        Else (feature 0 > 0.5)\n",
      "         Predict: 0.0\n",
      "       Else (feature 648 not in {0.0})\n",
      "        If (feature 646 in {0.0})\n",
      "         Predict: 10.96784662825602\n",
      "        Else (feature 646 not in {0.0})\n",
      "         Predict: 15.705780969631485\n",
      "  Tree 13 (weight 1.0):\n",
      "    If (feature 648 in {0.0})\n",
      "     If (feature 651 in {0.0})\n",
      "      If (feature 650 in {0.0})\n",
      "       If (feature 6 <= 0.15000000596046448)\n",
      "        If (feature 202 in {0.0})\n",
      "         Predict: 0.019387875156459188\n",
      "        Else (feature 202 not in {0.0})\n",
      "         Predict: 0.2765000104904175\n",
      "       Else (feature 6 > 0.15000000596046448)\n",
      "        If (feature 311 in {0.0})\n",
      "         Predict: 2.004317458296921E-4\n",
      "        Else (feature 311 not in {0.0})\n",
      "         Predict: 0.026645961755551166\n",
      "      Else (feature 650 not in {0.0})\n",
      "       If (feature 418 in {0.0})\n",
      "        If (feature 594 in {0.0})\n",
      "         Predict: 0.001409280922544338\n",
      "        Else (feature 594 not in {0.0})\n",
      "         Predict: 0.2300000020435878\n",
      "       Else (feature 418 not in {0.0})\n",
      "        If (feature 1 <= 5.694999933242798)\n",
      "         Predict: 0.0\n",
      "        Else (feature 1 > 5.694999933242798)\n",
      "         Predict: 0.25652174327684485\n",
      "     Else (feature 651 not in {0.0})\n",
      "      If (feature 142 in {0.0})\n",
      "       If (feature 417 in {0.0})\n",
      "        If (feature 469 in {0.0})\n",
      "         Predict: 0.010674623489638187\n",
      "        Else (feature 469 not in {0.0})\n",
      "         Predict: 0.29804878118561534\n",
      "       Else (feature 417 not in {0.0})\n",
      "        If (feature 9 in {1.0})\n",
      "         Predict: 0.0\n",
      "        Else (feature 9 not in {1.0})\n",
      "         Predict: 3.5460000038146973\n",
      "      Else (feature 142 not in {0.0})\n",
      "       Predict: 16.059999465942383\n",
      "    Else (feature 648 not in {0.0})\n",
      "     If (feature 5 <= 2.7200000286102295)\n",
      "      If (feature 14 in {1.0})\n",
      "       If (feature 247 in {0.0})\n",
      "        If (feature 2 <= 14.09000015258789)\n",
      "         Predict: 2.1337660578350426\n",
      "        Else (feature 2 > 14.09000015258789)\n",
      "         Predict: 4.140430910172757\n",
      "       Else (feature 247 not in {0.0})\n",
      "        If (feature 2 <= 34.75)\n",
      "         Predict: 4.527964920211555\n",
      "        Else (feature 2 > 34.75)\n",
      "         Predict: 8.650636465417595\n",
      "      Else (feature 14 not in {1.0})\n",
      "       If (feature 1 <= 16.0600004196167)\n",
      "        If (feature 2 <= 51.75)\n",
      "         Predict: 2.795319758264388\n",
      "        Else (feature 2 > 51.75)\n",
      "         Predict: 10.900937431370254\n",
      "       Else (feature 1 > 16.0600004196167)\n",
      "        If (feature 17 in {0.0})\n",
      "         Predict: 10.481748247617281\n",
      "        Else (feature 17 not in {0.0})\n",
      "         Predict: 15.808683604731858\n",
      "     Else (feature 5 > 2.7200000286102295)\n",
      "      If (feature 2 <= 51.75)\n",
      "       If (feature 7 <= 1.25)\n",
      "        If (feature 253 in {0.0})\n",
      "         Predict: 3.699011450711165\n",
      "        Else (feature 253 not in {0.0})\n",
      "         Predict: 6.809767583318792\n",
      "       Else (feature 7 > 1.25)\n",
      "        If (feature 526 in {1.0})\n",
      "         Predict: 4.474772904725304\n",
      "        Else (feature 526 not in {1.0})\n",
      "         Predict: 7.969421153606216\n",
      "      Else (feature 2 > 51.75)\n",
      "       If (feature 5 <= 10.25)\n",
      "        If (feature 7 <= 1.25)\n",
      "         Predict: 9.676633410423445\n",
      "        Else (feature 7 > 1.25)\n",
      "         Predict: 11.238182402162812\n",
      "       Else (feature 5 > 10.25)\n",
      "        If (feature 646 in {0.0})\n",
      "         Predict: 14.50292184942474\n",
      "        Else (feature 646 not in {0.0})\n",
      "         Predict: 16.90606204780667\n",
      "  Tree 14 (weight 1.0):\n",
      "    If (feature 1 <= 7.615000009536743)\n",
      "     If (feature 648 in {0.0})\n",
      "      If (feature 6 <= 0.15000000596046448)\n",
      "       If (feature 583 in {0.0})\n",
      "        If (feature 151 in {0.0})\n",
      "         Predict: 0.019019378103661704\n",
      "        Else (feature 151 not in {0.0})\n",
      "         Predict: 3.0300000508626304\n",
      "       Else (feature 583 not in {0.0})\n",
      "        If (feature 345 in {1.0})\n",
      "         Predict: 0.0\n",
      "        Else (feature 345 not in {1.0})\n",
      "         Predict: 1.6114285673413957\n",
      "      Else (feature 6 > 0.15000000596046448)\n",
      "       If (feature 12 in {0.0})\n",
      "        If (feature 651 in {0.0})\n",
      "         Predict: 2.2908174742943587E-4\n",
      "        Else (feature 651 not in {0.0})\n",
      "         Predict: 0.005590778066573098\n",
      "       Else (feature 12 not in {0.0})\n",
      "        If (feature 257 in {0.0})\n",
      "         Predict: 0.004167916021425685\n",
      "        Else (feature 257 not in {0.0})\n",
      "         Predict: 0.07131579047755192\n",
      "     Else (feature 648 not in {0.0})\n",
      "      If (feature 1 <= 2.7450000047683716)\n",
      "       If (feature 14 in {1.0})\n",
      "        If (feature 190 in {1.0})\n",
      "         Predict: 1.7164160708401237\n",
      "        Else (feature 190 not in {1.0})\n",
      "         Predict: 2.135600101427959\n",
      "       Else (feature 14 not in {1.0})\n",
      "        If (feature 2 <= 51.75)\n",
      "         Predict: 3.756818395107106\n",
      "        Else (feature 2 > 51.75)\n",
      "         Predict: 11.325961138395463\n",
      "      Else (feature 1 > 2.7450000047683716)\n",
      "       If (feature 15 in {0.0})\n",
      "        If (feature 5 <= 5.650000095367432)\n",
      "         Predict: 3.682942536292652\n",
      "        Else (feature 5 > 5.650000095367432)\n",
      "         Predict: 5.646181232367973\n",
      "       Else (feature 15 not in {0.0})\n",
      "        If (feature 423 in {1.0})\n",
      "         Predict: 7.054583306113879\n",
      "        Else (feature 423 not in {1.0})\n",
      "         Predict: 11.026585161264942\n",
      "    Else (feature 1 > 7.615000009536743)\n",
      "     If (feature 2 <= 51.75)\n",
      "      If (feature 649 in {1.0})\n",
      "       If (feature 544 in {0.0})\n",
      "        If (feature 10 in {1.0})\n",
      "         Predict: 0.0\n",
      "        Else (feature 10 not in {1.0})\n",
      "         Predict: 4.136601613264575E-4\n",
      "       Else (feature 544 not in {0.0})\n",
      "        If (feature 3 <= 0.25)\n",
      "         Predict: 0.0\n",
      "        Else (feature 3 > 0.25)\n",
      "         Predict: 0.012547770882867704\n",
      "      Else (feature 649 not in {1.0})\n",
      "       If (feature 7 <= 1.25)\n",
      "        If (feature 247 in {0.0})\n",
      "         Predict: 4.81706752663622\n",
      "        Else (feature 247 not in {0.0})\n",
      "         Predict: 7.080047990147429\n",
      "       Else (feature 7 > 1.25)\n",
      "        If (feature 5 <= 0.5049999998882413)\n",
      "         Predict: 6.127321981974016\n",
      "        Else (feature 5 > 0.5049999998882413)\n",
      "         Predict: 8.170069104753383\n",
      "     Else (feature 2 > 51.75)\n",
      "      If (feature 649 in {1.0})\n",
      "       If (feature 487 in {0.0})\n",
      "        If (feature 9 in {0.0})\n",
      "         Predict: 0.0\n",
      "        Else (feature 9 not in {0.0})\n",
      "         Predict: 6.74151536849486E-4\n",
      "       Else (feature 487 not in {0.0})\n",
      "        If (feature 0 <= 3.5)\n",
      "         Predict: 0.0\n",
      "        Else (feature 0 > 3.5)\n",
      "         Predict: 0.9090909090909091\n",
      "      Else (feature 649 not in {1.0})\n",
      "       If (feature 14 in {1.0})\n",
      "        If (feature 646 in {0.0})\n",
      "         Predict: 8.83594632952985\n",
      "        Else (feature 646 not in {0.0})\n",
      "         Predict: 16.19353166986021\n",
      "       Else (feature 14 not in {1.0})\n",
      "        If (feature 646 in {0.0})\n",
      "         Predict: 11.181632517358297\n",
      "        Else (feature 646 not in {0.0})\n",
      "         Predict: 16.450965936194397\n",
      "  Tree 15 (weight 1.0):\n",
      "    If (feature 648 in {0.0})\n",
      "     If (feature 142 in {0.0})\n",
      "      If (feature 7 <= -1.25)\n",
      "       If (feature 18 in {0.0})\n",
      "        If (feature 259 in {0.0})\n",
      "         Predict: 0.01532954067806968\n",
      "        Else (feature 259 not in {0.0})\n",
      "         Predict: 0.4356140358406201\n",
      "       Else (feature 18 not in {0.0})\n",
      "        If (feature 544 in {0.0})\n",
      "         Predict: 0.7676691937267333\n",
      "        Else (feature 544 not in {0.0})\n",
      "         Predict: 6.573333144187927\n",
      "      Else (feature 7 > -1.25)\n",
      "       If (feature 6 <= 0.15000000596046448)\n",
      "        If (feature 474 in {0.0})\n",
      "         Predict: 0.016989827829734863\n",
      "        Else (feature 474 not in {0.0})\n",
      "         Predict: 0.36303028915867663\n",
      "       Else (feature 6 > 0.15000000596046448)\n",
      "        If (feature 649 in {1.0})\n",
      "         Predict: 2.114820406435725E-4\n",
      "        Else (feature 649 not in {1.0})\n",
      "         Predict: 0.003189332056033135\n",
      "     Else (feature 142 not in {0.0})\n",
      "      Predict: 16.059999465942383\n",
      "    Else (feature 648 not in {0.0})\n",
      "     If (feature 1 <= 7.615000009536743)\n",
      "      If (feature 2 <= 13.75)\n",
      "       If (feature 7 <= 1.25)\n",
      "        If (feature 380 in {0.0})\n",
      "         Predict: 1.6667236498964002\n",
      "        Else (feature 380 not in {0.0})\n",
      "         Predict: 13.854060111413325\n",
      "       Else (feature 7 > 1.25)\n",
      "        If (feature 5 <= 5.059999942779541)\n",
      "         Predict: 2.1492140217520608\n",
      "        Else (feature 5 > 5.059999942779541)\n",
      "         Predict: 4.1510707394727175\n",
      "      Else (feature 2 > 13.75)\n",
      "       If (feature 14 in {1.0})\n",
      "        If (feature 5 <= 5.650000095367432)\n",
      "         Predict: 3.808478467503285\n",
      "        Else (feature 5 > 5.650000095367432)\n",
      "         Predict: 5.183684749947266\n",
      "       Else (feature 14 not in {1.0})\n",
      "        If (feature 2 <= 51.75)\n",
      "         Predict: 3.8209267783026877\n",
      "        Else (feature 2 > 51.75)\n",
      "         Predict: 11.231242480539624\n",
      "     Else (feature 1 > 7.615000009536743)\n",
      "      If (feature 2 <= 51.75)\n",
      "       If (feature 14 in {0.0})\n",
      "        If (feature 9 in {0.0})\n",
      "         Predict: 1.293269782078061\n",
      "        Else (feature 9 not in {0.0})\n",
      "         Predict: 12.866018205644055\n",
      "       Else (feature 14 not in {0.0})\n",
      "        If (feature 611 in {0.0})\n",
      "         Predict: 7.050667390120499\n",
      "        Else (feature 611 not in {0.0})\n",
      "         Predict: 8.586560168043471\n",
      "      Else (feature 2 > 51.75)\n",
      "       If (feature 646 in {0.0})\n",
      "        If (feature 382 in {0.0})\n",
      "         Predict: 10.670009171403928\n",
      "        Else (feature 382 not in {0.0})\n",
      "         Predict: 14.931392050058552\n",
      "       Else (feature 646 not in {0.0})\n",
      "        If (feature 158 in {0.0})\n",
      "         Predict: 16.53298670424958\n",
      "        Else (feature 158 not in {0.0})\n",
      "         Predict: 34.98724144902722\n",
      "  Tree 16 (weight 1.0):\n",
      "    If (feature 1 <= 7.615000009536743)\n",
      "     If (feature 2 <= 13.25)\n",
      "      If (feature 6 <= 0.15000000596046448)\n",
      "       If (feature 7 <= 1.25)\n",
      "        If (feature 609 in {0.0})\n",
      "         Predict: 0.020217182915068296\n",
      "        Else (feature 609 not in {0.0})\n",
      "         Predict: 1.2149999618530274\n",
      "       Else (feature 7 > 1.25)\n",
      "        If (feature 18 in {0.0})\n",
      "         Predict: 0.30516067907805705\n",
      "        Else (feature 18 not in {0.0})\n",
      "         Predict: 1.657037032975091\n",
      "      Else (feature 6 > 0.15000000596046448)\n",
      "       If (feature 7 <= 1.25)\n",
      "        If (feature 648 in {0.0})\n",
      "         Predict: 1.4623214009034627E-4\n",
      "        Else (feature 648 not in {0.0})\n",
      "         Predict: 1.66834455904444\n",
      "       Else (feature 7 > 1.25)\n",
      "        If (feature 611 in {1.0})\n",
      "         Predict: 1.3739829939240022\n",
      "        Else (feature 611 not in {1.0})\n",
      "         Predict: 1.5585340522873923\n",
      "     Else (feature 2 > 13.25)\n",
      "      If (feature 1 <= 0.6949999928474426)\n",
      "       If (feature 2 <= 51.75)\n",
      "        If (feature 113 in {0.0})\n",
      "         Predict: 0.06948608078652838\n",
      "        Else (feature 113 not in {0.0})\n",
      "         Predict: 1.553664843030452\n",
      "       Else (feature 2 > 51.75)\n",
      "        If (feature 10 in {0.0})\n",
      "         Predict: 6.036045456878245\n",
      "        Else (feature 10 not in {0.0})\n",
      "         Predict: 8.688317532784405\n",
      "      Else (feature 1 > 0.6949999928474426)\n",
      "       If (feature 5 <= 5.650000095367432)\n",
      "        If (feature 7 <= 1.25)\n",
      "         Predict: 1.8389442763365096\n",
      "        Else (feature 7 > 1.25)\n",
      "         Predict: 2.8663937369223698\n",
      "       Else (feature 5 > 5.650000095367432)\n",
      "        If (feature 648 in {0.0})\n",
      "         Predict: 0.0\n",
      "        Else (feature 648 not in {0.0})\n",
      "         Predict: 6.533116069983001\n",
      "    Else (feature 1 > 7.615000009536743)\n",
      "     If (feature 648 in {0.0})\n",
      "      If (feature 3 <= -0.25)\n",
      "       If (feature 382 in {0.0})\n",
      "        If (feature 252 in {0.0})\n",
      "         Predict: 0.12763441060118938\n",
      "        Else (feature 252 not in {0.0})\n",
      "         Predict: 6.040000279744466\n",
      "       Else (feature 382 not in {0.0})\n",
      "        If (feature 0 <= 1.5)\n",
      "         Predict: 19.15999984741211\n",
      "        Else (feature 0 > 1.5)\n",
      "         Predict: 0.0\n",
      "      Else (feature 3 > -0.25)\n",
      "       If (feature 338 in {0.0})\n",
      "        If (feature 378 in {0.0})\n",
      "         Predict: 7.50256665568301E-4\n",
      "        Else (feature 378 not in {0.0})\n",
      "         Predict: 0.030280374663641148\n",
      "       Else (feature 338 not in {0.0})\n",
      "        If (feature 9 in {0.0})\n",
      "         Predict: 0.0\n",
      "        Else (feature 9 not in {0.0})\n",
      "         Predict: 0.2784000015258789\n",
      "     Else (feature 648 not in {0.0})\n",
      "      If (feature 14 in {1.0})\n",
      "       If (feature 253 in {0.0})\n",
      "        If (feature 247 in {0.0})\n",
      "         Predict: 6.530614877375688\n",
      "        Else (feature 247 not in {0.0})\n",
      "         Predict: 8.231349747268883\n",
      "       Else (feature 253 not in {0.0})\n",
      "        If (feature 7 <= 1.25)\n",
      "         Predict: 7.105377386571652\n",
      "        Else (feature 7 > 1.25)\n",
      "         Predict: 8.209939797934457\n",
      "      Else (feature 14 not in {1.0})\n",
      "       If (feature 16 in {0.0})\n",
      "        If (feature 646 in {0.0})\n",
      "         Predict: 10.622942763998918\n",
      "        Else (feature 646 not in {0.0})\n",
      "         Predict: 15.724963321047513\n",
      "       Else (feature 16 not in {0.0})\n",
      "        If (feature 1 <= 16.0600004196167)\n",
      "         Predict: 13.1548377590827\n",
      "        Else (feature 1 > 16.0600004196167)\n",
      "         Predict: 15.589368520108401\n",
      "  Tree 17 (weight 1.0):\n",
      "    If (feature 648 in {0.0})\n",
      "     If (feature 436 in {0.0})\n",
      "      If (feature 649 in {1.0})\n",
      "       If (feature 6 <= -0.15000000596046448)\n",
      "        If (feature 4 <= -0.25)\n",
      "         Predict: 0.019630785405759816\n",
      "        Else (feature 4 > -0.25)\n",
      "         Predict: 1.4237500429153442\n",
      "       Else (feature 6 > -0.15000000596046448)\n",
      "        If (feature 6 <= 0.15000000596046448)\n",
      "         Predict: 0.01403903401217396\n",
      "        Else (feature 6 > 0.15000000596046448)\n",
      "         Predict: 2.4505675751228647E-4\n",
      "      Else (feature 649 not in {1.0})\n",
      "       If (feature 408 in {0.0})\n",
      "        If (feature 343 in {0.0})\n",
      "         Predict: 0.006030468507112779\n",
      "        Else (feature 343 not in {0.0})\n",
      "         Predict: 1.2789473282663446\n",
      "       Else (feature 408 not in {0.0})\n",
      "        If (feature 0 <= 1.5)\n",
      "         Predict: 16.059999465942383\n",
      "        Else (feature 0 > 1.5)\n",
      "         Predict: 0.0\n",
      "     Else (feature 436 not in {0.0})\n",
      "      If (feature 228 in {0.0})\n",
      "       Predict: 0.0\n",
      "      Else (feature 228 not in {0.0})\n",
      "       If (feature 4 <= -0.25)\n",
      "        Predict: 18.579999923706055\n",
      "       Else (feature 4 > -0.25)\n",
      "        Predict: 0.0\n",
      "    Else (feature 648 not in {0.0})\n",
      "     If (feature 5 <= 2.7200000286102295)\n",
      "      If (feature 2 <= 17.75)\n",
      "       If (feature 382 in {0.0})\n",
      "        If (feature 2 <= 9.75)\n",
      "         Predict: 1.8843784664230847\n",
      "        Else (feature 2 > 9.75)\n",
      "         Predict: 2.8998337464378943\n",
      "       Else (feature 382 not in {0.0})\n",
      "        If (feature 2 <= 3.75)\n",
      "         Predict: 51.39774182949576\n",
      "        Else (feature 2 > 3.75)\n",
      "         Predict: 1.2099999785423279\n",
      "      Else (feature 2 > 17.75)\n",
      "       If (feature 2 <= 51.75)\n",
      "        If (feature 247 in {0.0})\n",
      "         Predict: 4.625115238774024\n",
      "        Else (feature 247 not in {0.0})\n",
      "         Predict: 7.012477365552303\n",
      "       Else (feature 2 > 51.75)\n",
      "        If (feature 646 in {0.0})\n",
      "         Predict: 10.284638945801685\n",
      "        Else (feature 646 not in {0.0})\n",
      "         Predict: 13.635507463114617\n",
      "     Else (feature 5 > 2.7200000286102295)\n",
      "      If (feature 2 <= 51.75)\n",
      "       If (feature 5 <= 12.369999885559082)\n",
      "        If (feature 1 <= 7.615000009536743)\n",
      "         Predict: 5.1261268255087336\n",
      "        Else (feature 1 > 7.615000009536743)\n",
      "         Predict: 7.827191935982902\n",
      "       Else (feature 5 > 12.369999885559082)\n",
      "        If (feature 1 <= 16.0600004196167)\n",
      "         Predict: 10.026266666790752\n",
      "        Else (feature 1 > 16.0600004196167)\n",
      "         Predict: 18.175460567011644\n",
      "      Else (feature 2 > 51.75)\n",
      "       If (feature 4 <= 0.25)\n",
      "        If (feature 5 <= 15.75)\n",
      "         Predict: 14.117318844168318\n",
      "        Else (feature 5 > 15.75)\n",
      "         Predict: 16.437938453737377\n",
      "       Else (feature 4 > 0.25)\n",
      "        If (feature 17 in {0.0})\n",
      "         Predict: 10.973325683526188\n",
      "        Else (feature 17 not in {0.0})\n",
      "         Predict: 17.961657097087464\n",
      "  Tree 18 (weight 1.0):\n",
      "    If (feature 649 in {1.0})\n",
      "     If (feature 3 <= -0.25)\n",
      "      If (feature 523 in {0.0})\n",
      "       If (feature 4 <= 0.25)\n",
      "        If (feature 361 in {0.0})\n",
      "         Predict: 0.01740944042850928\n",
      "        Else (feature 361 not in {0.0})\n",
      "         Predict: 0.09800000190734863\n",
      "       Else (feature 4 > 0.25)\n",
      "        If (feature 615 in {0.0})\n",
      "         Predict: 0.27864864710214976\n",
      "        Else (feature 615 not in {0.0})\n",
      "         Predict: 1.559999942779541\n",
      "      Else (feature 523 not in {0.0})\n",
      "       If (feature 0 <= 2.5)\n",
      "        Predict: 0.0\n",
      "       Else (feature 0 > 2.5)\n",
      "        Predict: 6.0\n",
      "     Else (feature 3 > -0.25)\n",
      "      If (feature 3 <= 5.75)\n",
      "       If (feature 380 in {0.0})\n",
      "        If (feature 7 <= -1.25)\n",
      "         Predict: 0.02821339981135896\n",
      "        Else (feature 7 > -1.25)\n",
      "         Predict: 2.4492200167606566E-4\n",
      "       Else (feature 380 not in {0.0})\n",
      "        If (feature 0 <= 1.5)\n",
      "         Predict: 0.0\n",
      "        Else (feature 0 > 1.5)\n",
      "         Predict: 0.18227487717759552\n",
      "      Else (feature 3 > 5.75)\n",
      "       If (feature 0 <= 1.5)\n",
      "        Predict: 0.0\n",
      "       Else (feature 0 > 1.5)\n",
      "        If (feature 513 in {0.0})\n",
      "         Predict: 0.0\n",
      "        Else (feature 513 not in {0.0})\n",
      "         Predict: 0.11367816486577878\n",
      "    Else (feature 649 not in {1.0})\n",
      "     If (feature 1 <= 7.615000009536743)\n",
      "      If (feature 5 <= 5.650000095367432)\n",
      "       If (feature 648 in {0.0})\n",
      "        If (feature 408 in {0.0})\n",
      "         Predict: 0.006229959224052907\n",
      "        Else (feature 408 not in {0.0})\n",
      "         Predict: 16.059999465942383\n",
      "       Else (feature 648 not in {0.0})\n",
      "        If (feature 2 <= 13.25)\n",
      "         Predict: 2.0891118905371457\n",
      "        Else (feature 2 > 13.25)\n",
      "         Predict: 3.8298373820164175\n",
      "      Else (feature 5 > 5.650000095367432)\n",
      "       If (feature 18 in {0.0})\n",
      "        If (feature 1 <= 2.5049999952316284)\n",
      "         Predict: 8.309880191489153\n",
      "        Else (feature 1 > 2.5049999952316284)\n",
      "         Predict: 6.01311205465194\n",
      "       Else (feature 18 not in {0.0})\n",
      "        If (feature 2 <= 51.75)\n",
      "         Predict: 7.613773410463182\n",
      "        Else (feature 2 > 51.75)\n",
      "         Predict: 12.911387475921172\n",
      "     Else (feature 1 > 7.615000009536743)\n",
      "      If (feature 2 <= 51.75)\n",
      "       If (feature 5 <= 3.6899999380111694)\n",
      "        If (feature 648 in {0.0})\n",
      "         Predict: 0.023541861295774277\n",
      "        Else (feature 648 not in {0.0})\n",
      "         Predict: 6.129242930896082\n",
      "       Else (feature 5 > 3.6899999380111694)\n",
      "        If (feature 18 in {1.0})\n",
      "         Predict: 1.5207851461180848\n",
      "        Else (feature 18 not in {1.0})\n",
      "         Predict: 7.9165416552092776\n",
      "      Else (feature 2 > 51.75)\n",
      "       If (feature 646 in {0.0})\n",
      "        If (feature 457 in {1.0})\n",
      "         Predict: 2.1850581557251685\n",
      "        Else (feature 457 not in {1.0})\n",
      "         Predict: 10.914756788436167\n",
      "       Else (feature 646 not in {0.0})\n",
      "        If (feature 651 in {1.0})\n",
      "         Predict: 0.0\n",
      "        Else (feature 651 not in {1.0})\n",
      "         Predict: 16.57291318240064\n",
      "  Tree 19 (weight 1.0):\n",
      "    If (feature 648 in {0.0})\n",
      "     If (feature 651 in {0.0})\n",
      "      If (feature 570 in {0.0})\n",
      "       If (feature 652 in {0.0})\n",
      "        If (feature 3 <= -0.25)\n",
      "         Predict: 0.009931350103845858\n",
      "        Else (feature 3 > -0.25)\n",
      "         Predict: 3.2600634658712976E-4\n",
      "       Else (feature 652 not in {0.0})\n",
      "        If (feature 1 <= 0.35500000417232513)\n",
      "         Predict: 0.0\n",
      "        Else (feature 1 > 0.35500000417232513)\n",
      "         Predict: 2.0\n",
      "      Else (feature 570 not in {0.0})\n",
      "       If (feature 10 in {1.0})\n",
      "        Predict: 0.0\n",
      "       Else (feature 10 not in {1.0})\n",
      "        If (feature 253 in {0.0})\n",
      "         Predict: 0.0\n",
      "        Else (feature 253 not in {0.0})\n",
      "         Predict: 0.6258333524068197\n",
      "     Else (feature 651 not in {0.0})\n",
      "      If (feature 408 in {0.0})\n",
      "       If (feature 581 in {0.0})\n",
      "        If (feature 456 in {0.0})\n",
      "         Predict: 0.015435844988345503\n",
      "        Else (feature 456 not in {0.0})\n",
      "         Predict: 0.3499999931178142\n",
      "       Else (feature 581 not in {0.0})\n",
      "        Predict: 9.0600004196167\n",
      "      Else (feature 408 not in {0.0})\n",
      "       Predict: 16.059999465942383\n",
      "    Else (feature 648 not in {0.0})\n",
      "     If (feature 2 <= 27.25)\n",
      "      If (feature 2 <= 12.75)\n",
      "       If (feature 1 <= 1.284999966621399)\n",
      "        If (feature 2 <= 6.75)\n",
      "         Predict: 1.6413814697663822\n",
      "        Else (feature 2 > 6.75)\n",
      "         Predict: 2.1321508665139963\n",
      "       Else (feature 1 > 1.284999966621399)\n",
      "        If (feature 18 in {0.0})\n",
      "         Predict: 2.3586780068149973\n",
      "        Else (feature 18 not in {0.0})\n",
      "         Predict: 23.38852628751805\n",
      "      Else (feature 2 > 12.75)\n",
      "       If (feature 2 <= 19.75)\n",
      "        If (feature 2 <= 15.75)\n",
      "         Predict: 3.125229750097793\n",
      "        Else (feature 2 > 15.75)\n",
      "         Predict: 3.7099276337427134\n",
      "       Else (feature 2 > 19.75)\n",
      "        If (feature 2 <= 22.75)\n",
      "         Predict: 4.320407111474458\n",
      "        Else (feature 2 > 22.75)\n",
      "         Predict: 5.099317344018626\n",
      "     Else (feature 2 > 27.25)\n",
      "      If (feature 14 in {1.0})\n",
      "       If (feature 5 <= 3.6899999380111694)\n",
      "        If (feature 247 in {0.0})\n",
      "         Predict: 5.916425580231681\n",
      "        Else (feature 247 not in {0.0})\n",
      "         Predict: 8.149350409221167\n",
      "       Else (feature 5 > 3.6899999380111694)\n",
      "        If (feature 646 in {0.0})\n",
      "         Predict: 8.053767333108036\n",
      "        Else (feature 646 not in {0.0})\n",
      "         Predict: 17.491941006773192\n",
      "      Else (feature 14 not in {1.0})\n",
      "       If (feature 382 in {0.0})\n",
      "        If (feature 18 in {1.0})\n",
      "         Predict: 9.332293810891358\n",
      "        Else (feature 18 not in {1.0})\n",
      "         Predict: 11.070446716904707\n",
      "       Else (feature 382 not in {0.0})\n",
      "        If (feature 247 in {0.0})\n",
      "         Predict: 14.768838540151974\n",
      "        Else (feature 247 not in {0.0})\n",
      "         Predict: 19.894702736368856"
     ]
    }
   ],
   "source": [
    "print(rfmodel.toDebugString)"
   ]
  },
  {
   "cell_type": "markdown",
   "id": "defined-receiver",
   "metadata": {},
   "source": [
    "## Predicting with the model"
   ]
  },
  {
   "cell_type": "code",
   "execution_count": 38,
   "id": "insured-aerospace",
   "metadata": {},
   "outputs": [
    {
     "data": {
      "application/vnd.jupyter.widget-view+json": {
       "model_id": "af1a3cb4febc40b2b6a19615dca64c0d",
       "version_major": 2,
       "version_minor": 0
      },
      "text/plain": [
       "VBox()"
      ]
     },
     "metadata": {},
     "output_type": "display_data"
    },
    {
     "data": {
      "application/vnd.jupyter.widget-view+json": {
       "model_id": "",
       "version_major": 2,
       "version_minor": 0
      },
      "text/plain": [
       "FloatProgress(value=0.0, bar_style='info', description='Progress:', layout=Layout(height='25px', width='50%'),…"
      ]
     },
     "metadata": {},
     "output_type": "display_data"
    },
    {
     "name": "stdout",
     "output_type": "stream",
     "text": [
      "+--------------------+-----+--------------------+\n",
      "|            features|label|          prediction|\n",
      "+--------------------+-----+--------------------+\n",
      "|(653,[0,1,2,3,4,5...|  0.0|3.412046336171203E-4|\n",
      "|(653,[0,1,2,3,4,5...| 6.15|    4.96288911821806|\n",
      "|(653,[0,1,2,3,4,5...| 4.85|  4.7929061519918275|\n",
      "|(653,[0,1,2,3,4,5...| 9.55|   7.804019562993067|\n",
      "|(653,[0,1,2,3,4,5...|14.45|   7.804019562993067|\n",
      "+--------------------+-----+--------------------+\n",
      "only showing top 5 rows"
     ]
    }
   ],
   "source": [
    "# Make predictions\n",
    "rfpredicts = rfmodel.transform(valid)\n",
    "\n",
    "# Inspect results\n",
    "rfpredicts.show(5)"
   ]
  },
  {
   "cell_type": "markdown",
   "id": "stock-authority",
   "metadata": {},
   "source": [
    "## Evaluate the model"
   ]
  },
  {
   "cell_type": "code",
   "execution_count": 39,
   "id": "cubic-relaxation",
   "metadata": {},
   "outputs": [
    {
     "data": {
      "application/vnd.jupyter.widget-view+json": {
       "model_id": "133244979f224c54836c3f3401dd840a",
       "version_major": 2,
       "version_minor": 0
      },
      "text/plain": [
       "VBox()"
      ]
     },
     "metadata": {},
     "output_type": "display_data"
    },
    {
     "data": {
      "application/vnd.jupyter.widget-view+json": {
       "model_id": "",
       "version_major": 2,
       "version_minor": 0
      },
      "text/plain": [
       "FloatProgress(value=0.0, bar_style='info', description='Progress:', layout=Layout(height='25px', width='50%'),…"
      ]
     },
     "metadata": {},
     "output_type": "display_data"
    }
   ],
   "source": [
    "from pyspark.ml.evaluation import RegressionEvaluator"
   ]
  },
  {
   "cell_type": "code",
   "execution_count": 40,
   "id": "novel-transmission",
   "metadata": {},
   "outputs": [
    {
     "data": {
      "application/vnd.jupyter.widget-view+json": {
       "model_id": "420fa201d2a3441daea9bc8c7f291289",
       "version_major": 2,
       "version_minor": 0
      },
      "text/plain": [
       "VBox()"
      ]
     },
     "metadata": {},
     "output_type": "display_data"
    },
    {
     "data": {
      "application/vnd.jupyter.widget-view+json": {
       "model_id": "",
       "version_major": 2,
       "version_minor": 0
      },
      "text/plain": [
       "FloatProgress(value=0.0, bar_style='info', description='Progress:', layout=Layout(height='25px', width='50%'),…"
      ]
     },
     "metadata": {},
     "output_type": "display_data"
    }
   ],
   "source": [
    "# Select columns to compute test error\n",
    "evaluator = RegressionEvaluator(labelCol=\"label\",\n",
    "                                predictionCol=\"prediction\")"
   ]
  },
  {
   "cell_type": "code",
   "execution_count": 41,
   "id": "prerequisite-baker",
   "metadata": {},
   "outputs": [
    {
     "data": {
      "application/vnd.jupyter.widget-view+json": {
       "model_id": "98590f64a5404d37b4036f6cfa36eac9",
       "version_major": 2,
       "version_minor": 0
      },
      "text/plain": [
       "VBox()"
      ]
     },
     "metadata": {},
     "output_type": "display_data"
    },
    {
     "data": {
      "application/vnd.jupyter.widget-view+json": {
       "model_id": "",
       "version_major": 2,
       "version_minor": 0
      },
      "text/plain": [
       "FloatProgress(value=0.0, bar_style='info', description='Progress:', layout=Layout(height='25px', width='50%'),…"
      ]
     },
     "metadata": {},
     "output_type": "display_data"
    },
    {
     "name": "stdout",
     "output_type": "stream",
     "text": [
      "RMSE: 1.6261909179290863"
     ]
    }
   ],
   "source": [
    "# Create evaluation metrics\n",
    "rmse = evaluator.evaluate(rfpredicts, {evaluator.metricName: \"rmse\"})\n",
    "\n",
    "# Print Model Metrics\n",
    "print('RMSE: ' + str(rmse))\n"
   ]
  },
  {
   "cell_type": "code",
   "execution_count": 42,
   "id": "described-breed",
   "metadata": {},
   "outputs": [
    {
     "data": {
      "application/vnd.jupyter.widget-view+json": {
       "model_id": "94ce57b8a5084dd085d803452fb415d9",
       "version_major": 2,
       "version_minor": 0
      },
      "text/plain": [
       "VBox()"
      ]
     },
     "metadata": {},
     "output_type": "display_data"
    },
    {
     "data": {
      "application/vnd.jupyter.widget-view+json": {
       "model_id": "",
       "version_major": 2,
       "version_minor": 0
      },
      "text/plain": [
       "FloatProgress(value=0.0, bar_style='info', description='Progress:', layout=Layout(height='25px', width='50%'),…"
      ]
     },
     "metadata": {},
     "output_type": "display_data"
    },
    {
     "name": "stdout",
     "output_type": "stream",
     "text": [
      "R^2: 0.6613947133871283"
     ]
    }
   ],
   "source": [
    "r2 = evaluator.evaluate(rfpredicts, {evaluator.metricName: \"r2\"})\n",
    "print('R^2: ' + str(r2))"
   ]
  },
  {
   "cell_type": "code",
   "execution_count": 43,
   "id": "sitting-gothic",
   "metadata": {},
   "outputs": [
    {
     "data": {
      "application/vnd.jupyter.widget-view+json": {
       "model_id": "b119de58f1084ba7bec0e341943959f0",
       "version_major": 2,
       "version_minor": 0
      },
      "text/plain": [
       "VBox()"
      ]
     },
     "metadata": {},
     "output_type": "display_data"
    },
    {
     "data": {
      "application/vnd.jupyter.widget-view+json": {
       "model_id": "",
       "version_major": 2,
       "version_minor": 0
      },
      "text/plain": [
       "FloatProgress(value=0.0, bar_style='info', description='Progress:', layout=Layout(height='25px', width='50%'),…"
      ]
     },
     "metadata": {},
     "output_type": "display_data"
    },
    {
     "name": "stdout",
     "output_type": "stream",
     "text": [
      "MAE: 0.734047843092635"
     ]
    }
   ],
   "source": [
    "mae = evaluator.evaluate(rfpredicts, {evaluator.metricName: \"mae\"})\n",
    "print('MAE: ' + str(mae))"
   ]
  },
  {
   "cell_type": "code",
   "execution_count": null,
   "id": "growing-policy",
   "metadata": {},
   "outputs": [],
   "source": []
  },
  {
   "cell_type": "code",
   "execution_count": null,
   "id": "artistic-diagram",
   "metadata": {},
   "outputs": [],
   "source": []
  }
 ],
 "metadata": {
  "kernelspec": {
   "display_name": "PySpark",
   "language": "",
   "name": "pysparkkernel"
  },
  "language_info": {
   "codemirror_mode": {
    "name": "python",
    "version": 2
   },
   "mimetype": "text/x-python",
   "name": "pyspark",
   "pygments_lexer": "python2"
  }
 },
 "nbformat": 4,
 "nbformat_minor": 5
}
